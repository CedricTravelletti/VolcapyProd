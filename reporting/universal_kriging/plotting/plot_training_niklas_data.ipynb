{
 "cells": [
  {
   "cell_type": "code",
   "execution_count": null,
   "id": "06578ed9-abd4-4ab6-909b-14cb246481d0",
   "metadata": {},
   "outputs": [],
   "source": [
    "# Plot the results of the training on the volcano data."
   ]
  },
  {
   "cell_type": "code",
   "execution_count": null,
   "id": "cc6d4d2f",
   "metadata": {},
   "outputs": [],
   "source": [
    "import os\n",
    "import numpy as np\n",
    "import pandas as pd\n",
    "import matplotlib.pyplot as plt\n",
    "import seaborn as sns\n",
    "from volcapy.grid.grid_from_dsm import Grid\n",
    "\n",
    "\n",
    "data_folder = \"/home/cedric/PHD/Dev/VolcapySIAM/data/InversionDatas/stromboli_173018/\"\n",
    "\n",
    "grid = Grid.load(os.path.join(data_folder, \"grid.pickle\"))\n",
    "data_coords = np.load(os.path.join(data_folder, \"niklas_data_coords_corrected_final.npy\"))\n",
    "\n",
    "results_folder = \"/home/cedric/PHD/Dev/VolcapySIAM/reporting/universal_kriging/results/Stromboli/\"\n",
    "df = pd.read_pickle(os.path.join(results_folder, \"train_res_cylindrical.pkl\"))\n",
    "train_df = df[df['nll'].notnull()]\n",
    "# df_const = pd.read_pickle(os.path.join(results_folder, \"train_res_constant.pkl\"))\n",
    "df_const = pd.read_pickle(os.path.join(results_folder, \"train_res_constant_nonuniv.pkl\"))\n",
    "train_df_const = df_const[df_const['nll'].notnull()]"
   ]
  },
  {
   "cell_type": "code",
   "execution_count": null,
   "id": "9d2f2d68-3579-4da9-a200-f2616eb8860b",
   "metadata": {},
   "outputs": [],
   "source": [
    "# Plot parameters\n",
    "sns.set()\n",
    "sns.set_style(\"white\")\n",
    "plt.rcParams[\"font.family\"] = \"arial\"\n",
    "plot_params = {\n",
    "        'font.size': 24, 'font.style': 'oblique',\n",
    "        'axes.labelsize': 'small',\n",
    "        'axes.titlesize':'small',\n",
    "        'legend.fontsize': 'small',\n",
    "        'xtick.labelsize': 'small'\n",
    "        }\n",
    "plt.rcParams.update(plot_params)"
   ]
  },
  {
   "cell_type": "code",
   "execution_count": null,
   "id": "e53ecf99",
   "metadata": {},
   "outputs": [],
   "source": [
    "train_df"
   ]
  },
  {
   "cell_type": "code",
   "execution_count": null,
   "id": "59f1e37b",
   "metadata": {},
   "outputs": [],
   "source": [
    "%matplotlib inline\n",
    "plt.figure(figsize=(13, 5))\n",
    "plt.subplot(121)\n",
    "plt.scatter(train_df['lambda0'], train_df['sigma0'], c=train_df['nll'], vmax=-600, vmin=-1000)\n",
    "plt.colorbar()\n",
    "plt.title(\"Neg-log-likelihood (cylindrical)\")\n",
    "plt.subplot(122)\n",
    "plt.scatter(train_df['lambda0'], train_df['sigma0'], c=train_df['train RMSE'], vmin=0, vmax=0.4)\n",
    "plt.title(\"Train RMSE (cylindrical)\")\n",
    "plt.colorbar()"
   ]
  },
  {
   "cell_type": "code",
   "execution_count": null,
   "id": "ea7a114b",
   "metadata": {},
   "outputs": [],
   "source": [
    "filtered_df = train_df[train_df['train RMSE'] <=0.3]\n",
    "plt.scatter(filtered_df['lambda0'], filtered_df['sigma0'], c=filtered_df['nll'], vmax=-690, vmin=-780, cmap='jet')\n",
    "plt.title(\"Neg-log likelihood (train RMSE < 0.3)\")\n",
    "plt.colorbar()"
   ]
  },
  {
   "cell_type": "code",
   "execution_count": null,
   "id": "06added1",
   "metadata": {},
   "outputs": [],
   "source": [
    "filtered_df[filtered_df['nll'] == filtered_df['nll'].min()]"
   ]
  },
  {
   "cell_type": "code",
   "execution_count": null,
   "id": "b4951c15",
   "metadata": {},
   "outputs": [],
   "source": [
    "train_df_const"
   ]
  },
  {
   "cell_type": "markdown",
   "id": "4b3ddbda",
   "metadata": {},
   "source": [
    "## Model with constant only."
   ]
  },
  {
   "cell_type": "code",
   "execution_count": null,
   "id": "868b42ab",
   "metadata": {},
   "outputs": [],
   "source": [
    "%matplotlib inline\n",
    "plt.figure(figsize=(13, 5))\n",
    "plt.subplot(121)\n",
    "plt.scatter(train_df_const['lambda0'], train_df_const['sigma0'], c=train_df_const['nll'], vmin=-780, vmax=-750)\n",
    "            # vmax=-600, vmin=-1000)\n",
    "plt.colorbar()\n",
    "plt.title(\"Neg-log-likelihood (constant)\")\n",
    "plt.subplot(122)\n",
    "plt.scatter(train_df_const['lambda0'], train_df_const['sigma0'], c=train_df_const['train_RMSE'], vmin=0, vmax=0.4)\n",
    "plt.title(\"Train RMSE (constant)\")\n",
    "plt.colorbar()"
   ]
  },
  {
   "cell_type": "code",
   "execution_count": null,
   "id": "d2fe499a",
   "metadata": {},
   "outputs": [],
   "source": [
    "filtered_df_const = train_df_const[train_df_const['train RMSE'] <=0.12]\n",
    "plt.scatter(filtered_df_const['lambda0'], filtered_df_const['sigma0'], c=filtered_df_const['nll'], vmax=-690, vmin=-780, cmap='jet')\n",
    "plt.colorbar()"
   ]
  },
  {
   "cell_type": "code",
   "execution_count": null,
   "id": "4a543027",
   "metadata": {},
   "outputs": [],
   "source": [
    "filtered_df_const[filtered_df_const['nll'] == filtered_df_const['nll'].min()]"
   ]
  },
  {
   "cell_type": "markdown",
   "id": "45853077",
   "metadata": {},
   "source": [
    "## Model with trend along N41 fault line."
   ]
  },
  {
   "cell_type": "code",
   "execution_count": null,
   "id": "c2a7b207",
   "metadata": {},
   "outputs": [],
   "source": [
    "df_N41 = pd.read_pickle(os.path.join(results_folder, \"train_res_N41.pkl\"))"
   ]
  },
  {
   "cell_type": "code",
   "execution_count": null,
   "id": "e3fc42cd",
   "metadata": {},
   "outputs": [],
   "source": [
    "%matplotlib inline\n",
    "plt.figure(figsize=(13, 5))\n",
    "plt.subplot(121)\n",
    "plt.scatter(df_N41['lambda0'], df_N41['sigma0'], c=df_N41['nll'], vmax=-600, vmin=-1000)\n",
    "plt.colorbar()\n",
    "plt.title(\"Neg-log-likelihood (universal)\")\n",
    "plt.subplot(122)\n",
    "plt.scatter(df_N41['lambda0'], df_N41['sigma0'], c=df_N41['train RMSE'], vmin=0, vmax=0.4)\n",
    "plt.title(\"Train RMSE (universal)\")\n",
    "plt.colorbar()"
   ]
  },
  {
   "cell_type": "code",
   "execution_count": null,
   "id": "735ec9eb",
   "metadata": {},
   "outputs": [],
   "source": [
    "filtered_df_N41 = df_N41[df_N41['train RMSE'] <=0.2]\n",
    "plt.scatter(filtered_df_N41['lambda0'], filtered_df_N41['sigma0'], c=filtered_df_N41['nll'], vmax=-690, vmin=-850, cmap='jet')\n",
    "plt.title(\"Neg-log likelihood (train RMSE < 0.3)\")\n",
    "plt.colorbar()"
   ]
  },
  {
   "cell_type": "code",
   "execution_count": null,
   "id": "17dafaf5",
   "metadata": {},
   "outputs": [],
   "source": [
    "# Find minimum.\n",
    "filtered_df_N41[filtered_df_N41['nll'] == filtered_df_N41['nll'].min()]"
   ]
  },
  {
   "cell_type": "code",
   "execution_count": null,
   "id": "916ef7f3-1c12-4750-a4c8-c9f7d467ba59",
   "metadata": {},
   "outputs": [],
   "source": [
    "## Model with piecewise domains."
   ]
  },
  {
   "cell_type": "code",
   "execution_count": null,
   "id": "2cc9f018-60e7-45de-a7b7-98f092ccd7c0",
   "metadata": {},
   "outputs": [],
   "source": [
    "df_domains = pd.read_pickle(os.path.join(results_folder, \"train_res_domains.pkl\"))"
   ]
  },
  {
   "cell_type": "code",
   "execution_count": null,
   "id": "8b747592-d3c1-4738-99fc-c814d991371b",
   "metadata": {},
   "outputs": [],
   "source": [
    "%matplotlib inline\n",
    "plt.figure(figsize=(13, 5))\n",
    "plt.subplot(121)\n",
    "plt.scatter(df_domains['lambda0'], df_domains['sigma0'], c=df_domains['nll'], vmax=-600, vmin=-1000)\n",
    "plt.colorbar()\n",
    "plt.title(\"Neg-log-likelihood (domains)\")\n",
    "plt.subplot(122)\n",
    "plt.scatter(df_domains['lambda0'], df_domains['sigma0'], c=df_domains['train RMSE'], vmin=0, vmax=0.4)\n",
    "plt.title(\"Train RMSE (domains)\")\n",
    "plt.colorbar()"
   ]
  },
  {
   "cell_type": "code",
   "execution_count": null,
   "id": "4944e586-70ab-4325-8484-c52622173d6c",
   "metadata": {},
   "outputs": [],
   "source": [
    "filtered_df_domains = df_domains[df_domains['train RMSE'] <=0.2]\n",
    "plt.scatter(filtered_df_domains['lambda0'], filtered_df_domains['sigma0'], c=filtered_df_domains['nll'], vmax=-690, vmin=-750, cmap='jet')\n",
    "plt.title(\"Neg-log likelihood (train RMSE < 0.3)\")\n",
    "plt.colorbar()"
   ]
  },
  {
   "cell_type": "code",
   "execution_count": null,
   "id": "e50eefe0-3d3b-40e6-8502-fb7c991b2466",
   "metadata": {},
   "outputs": [],
   "source": [
    "# Find minimum.\n",
    "filtered_df_domains[filtered_df_domains['nll'] == filtered_df_domains['nll'].min()]"
   ]
  },
  {
   "cell_type": "markdown",
   "id": "e8f5354f",
   "metadata": {},
   "source": [
    "## Plot posterior means."
   ]
  },
  {
   "cell_type": "code",
   "execution_count": null,
   "id": "2fd89303",
   "metadata": {},
   "outputs": [],
   "source": [
    "post_mean_cyl = np.load(os.path.join(results_folder, \"post_mean_cyl.npy\"))\n",
    "post_mean_cst = np.load(os.path.join(results_folder, \"post_mean_cst.npy\"))\n",
    "post_mean_N41 = np.load(os.path.join(results_folder, \"post_mean_N41.npy\"))"
   ]
  },
  {
   "cell_type": "code",
   "execution_count": null,
   "id": "4b80bfd5",
   "metadata": {},
   "outputs": [],
   "source": [
    "%matplotlib inline\n",
    "plt.rcParams['text.usetex'] = True\n",
    "plt.rcParams['font.family'] = 'sans-serif'\n",
    "plt.rcParams['font.sans-serif'] = ['DejaVu Sans']\n",
    "plt.rcParams['font.size'] = 14\n",
    "\n",
    "from mpl_toolkits.axes_grid1 import make_axes_locatable\n",
    "\n",
    "meshed_post_mean_cyl = grid.mesh_values(post_mean_cyl) + 1600\n",
    "meshed_post_mean_cst = grid.mesh_values(post_mean_cst) + 1600\n",
    "meshed_post_mean_N41 = grid.mesh_values(post_mean_N41) + 1600\n",
    "\n",
    "zlevel = 8\n",
    "print(grid.Z_mesh[0, 0, zlevel])\n",
    "\n",
    "\n",
    "fig = plt.figure(figsize=(20, 8))                                          \n",
    "plt.subplot(131)                                                      \n",
    "ax = plt.imshow(meshed_post_mean_cst[:, :, zlevel].T, vmin=1900, vmax=2800, cmap=\"RdBu_r\")\n",
    "# plt.gca().invert_xaxis()\n",
    "plt.gca().invert_yaxis()\n",
    "plt.colorbar(ax, fraction=0.046, pad=0.04)\n",
    "plt.yticks([])\n",
    "plt.xticks([])\n",
    "plt.title(r\"$\\textbf{constant}$\")\n",
    "\n",
    "plt.subplot(132)                                                       \n",
    "ax = plt.imshow(meshed_post_mean_cyl[:, :, zlevel].T, vmin=1900, vmax=2800, cmap=\"RdBu_r\")\n",
    "plt.gca().invert_yaxis()\n",
    "plt.colorbar(ax, fraction=0.046, pad=0.04)\n",
    "plt.yticks([])\n",
    "plt.xticks([])\n",
    "plt.title(r\"$\\textbf{cylindrical}$\")\n",
    "\n",
    "\n",
    "ax = plt.subplot(133)                                        \n",
    "im = plt.imshow(meshed_post_mean_N41[:, :, zlevel].T, vmin=1900, vmax=2800, cmap=\"RdBu_r\")\n",
    "plt.gca().invert_yaxis()\n",
    "plt.title(r\"$\\textbf{fault line}$\")\n",
    "plt.yticks([])\n",
    "plt.xticks([])\n",
    "\n",
    "divider2 = make_axes_locatable(ax)\n",
    "cax2 = divider2.append_axes(\"right\", size=\"5%\", pad=0.2)\n",
    "\n",
    "cbar1 = fig.colorbar(im, cax = cax2)\n",
    "\n",
    "fig.delaxes(fig.axes[1])\n",
    "fig.delaxes(fig.axes[2])\n",
    "\n",
    "\n",
    "plt.savefig(\"posterior_means\", bbox_inches='tight', dpi=200)"
   ]
  },
  {
   "cell_type": "code",
   "execution_count": null,
   "id": "df265398-93d0-4f6c-8b91-1978b2b21a09",
   "metadata": {},
   "outputs": [],
   "source": [
    "%matplotlib inline\n",
    "from mpl_toolkits.axes_grid1 import make_axes_locatable\n",
    "\n",
    "meshed_post_mean_cyl = grid.mesh_values(post_mean_cyl) + 1600\n",
    "meshed_post_mean_cst = grid.mesh_values(post_mean_cst) + 1600\n",
    "meshed_post_mean_N41 = grid.mesh_values(post_mean_N41) + 1600\n",
    "\n",
    "zlevel = 14\n",
    "print(grid.Z_mesh[0, 0, zlevel])\n",
    "\n",
    "\n",
    "fig = plt.figure(figsize=(20, 8))                                          \n",
    "plt.subplot(131)                                                      \n",
    "ax = plt.imshow(meshed_post_mean_cst[:, :, zlevel].T, vmin=1900, vmax=2800, cmap=\"RdBu_r\")\n",
    "# plt.gca().invert_xaxis()\n",
    "plt.gca().invert_yaxis()\n",
    "plt.colorbar(ax, fraction=0.046, pad=0.04)\n",
    "plt.yticks([])\n",
    "plt.xticks([])\n",
    "plt.title(r\"$\\textbf{constant}$\")\n",
    "\n",
    "plt.subplot(132)                                                       \n",
    "ax = plt.imshow(meshed_post_mean_cyl[:, :, zlevel].T, vmin=1900, vmax=2800, cmap=\"RdBu_r\")\n",
    "plt.gca().invert_yaxis()\n",
    "plt.colorbar(ax, fraction=0.046, pad=0.04)\n",
    "plt.yticks([])\n",
    "plt.xticks([])\n",
    "plt.title(r\"$\\textbf{cylindrical}$\")\n",
    "\n",
    "\n",
    "ax = plt.subplot(133)                                        \n",
    "im = plt.imshow(meshed_post_mean_N41[:, :, zlevel].T, vmin=1900, vmax=2800, cmap=\"RdBu_r\")\n",
    "plt.gca().invert_yaxis()\n",
    "plt.title(r\"$\\textbf{fault line}$\")\n",
    "plt.yticks([])\n",
    "plt.xticks([])\n",
    "\n",
    "divider2 = make_axes_locatable(ax)\n",
    "cax2 = divider2.append_axes(\"right\", size=\"5%\", pad=0.2)\n",
    "\n",
    "cbar1 = fig.colorbar(im, cax = cax2)\n",
    "\n",
    "fig.delaxes(fig.axes[1])\n",
    "fig.delaxes(fig.axes[2])\n",
    "\n",
    "\n",
    "plt.savefig(\"posterior_means_m100\", bbox_inches='tight', dpi=200)"
   ]
  },
  {
   "cell_type": "markdown",
   "id": "db436d71",
   "metadata": {},
   "source": [
    "## Plot leave-one-out residuals."
   ]
  },
  {
   "cell_type": "code",
   "execution_count": null,
   "id": "403a234a",
   "metadata": {},
   "outputs": [],
   "source": [
    "residuals_loocv_cyl = np.load(os.path.join(results_folder_new, \"residuals_loocv_cyl.npy\"))\n",
    "residuals_loocv_cst = np.load(os.path.join(results_folder_new, \"residuals_loocv_cst.npy\"))\n",
    "residuals_loocv_N41 = np.load(os.path.join(results_folder_new, \"residuals_loocv_N41.npy\"))\n",
    "residuals_loocv_domains = np.load(os.path.join(results_folder_new, \"residuals_loocv_domains.npy\"))"
   ]
  },
  {
   "cell_type": "code",
   "execution_count": null,
   "id": "f3f64363",
   "metadata": {},
   "outputs": [],
   "source": [
    "print(\"Cylindrical {}\".format(np.mean(residuals_loocv_cyl**2)))\n",
    "print(\"Constant {}\".format(np.mean(residuals_loocv_cst**2)))\n",
    "print(\"N41 {}\".format(np.mean(residuals_loocv_N41**2)))"
   ]
  },
  {
   "cell_type": "code",
   "execution_count": null,
   "id": "ad342345",
   "metadata": {
    "tags": []
   },
   "outputs": [],
   "source": [
    "plt.figure(figsize=(17, 5))                                          \n",
    "plt.subplot(131)   \n",
    "plt.scatter(data_coords[:, 0], data_coords[:, 1], c=np.abs(residuals_loocv_cst), cmap='RdBu_r', vmax=1.0)\n",
    "plt.colorbar()\n",
    "plt.title(r\"Leave-one-out residual ($\\textbf{constant}$)\")\n",
    "plt.xlabel(\"Leave-one-out rmse: {:.4f} [mGal]\".format(np.sqrt(np.mean(residuals_loocv_cst**2))))\n",
    "plt.yticks([])\n",
    "plt.xticks([])\n",
    "\n",
    "plt.subplot(132)   \n",
    "plt.scatter(data_coords[:, 0], data_coords[:, 1], c=np.abs(residuals_loocv_cyl), cmap='RdBu_r', vmax=1.0)\n",
    "plt.colorbar()\n",
    "plt.title(r\"Leave-one-out residual ($\\textbf{cylindrical}$)\")\n",
    "plt.xlabel(\"Leave-one-out rmse: {:.4f} [mGal]\".format(np.sqrt(np.mean(residuals_loocv_cyl**2))))\n",
    "\n",
    "plt.yticks([])\n",
    "plt.xticks([])\n",
    "\n",
    "\n",
    "plt.subplot(133)\n",
    "plt.scatter(data_coords[:, 0], data_coords[:, 1], c=np.abs(residuals_loocv_N41), cmap='RdBu_r', vmax=1.0)\n",
    "plt.colorbar()\n",
    "plt.title(r\"Leave-one-out residual ($\\textbf{fault line}$)\")\n",
    "plt.yticks([])\n",
    "plt.xticks([])\n",
    "plt.xlabel(\"Leave-one-out rmse: {:.4f} [mGal]\".format(np.sqrt(np.mean(residuals_loocv_N41**2))))\n",
    "plt.savefig(\"loocv_residuals\", bbox_inches='tight', dpi=200)"
   ]
  },
  {
   "cell_type": "markdown",
   "id": "ac533b51",
   "metadata": {},
   "source": [
    "## Plot k-folds residuals."
   ]
  },
  {
   "cell_type": "code",
   "execution_count": null,
   "id": "ea853089",
   "metadata": {},
   "outputs": [],
   "source": [
    "residuals_kfolds_cyl = np.load(os.path.join(results_folder, \"residuals_kfolds_cyl.npy\"), allow_pickle=True)\n",
    "residuals_kfolds_cst = np.load(os.path.join(results_folder, \"residuals_kfolds_cst.npy\"), allow_pickle=True)\n",
    "residuals_kfolds_N41 = np.load(os.path.join(results_folder, \"residuals_kfolds_N41.npy\"), allow_pickle=True)\n",
    "residuals_kfolds_domains = np.load(os.path.join(results_folder, \"residuals_kfolds_domains.npy\"), allow_pickle=True)\n",
    "\n",
    "\n",
    "folds_inds = np.load(os.path.join(results_folder, \"folds_inds.pkl\"), allow_pickle=True)"
   ]
  },
  {
   "cell_type": "code",
   "execution_count": null,
   "id": "b62182c6",
   "metadata": {},
   "outputs": [],
   "source": [
    "# Plot bare folds domain.\n",
    "for i, fold in enumerate(folds_inds):\n",
    "    plt.scatter(data_coords[fold, 0], data_coords[fold, 1])\n",
    "plt.yticks([])\n",
    "plt.xticks([])\n",
    "plt.savefig(\"fold_domains\", bbox_inches='tight', dpi=200)"
   ]
  },
  {
   "cell_type": "markdown",
   "id": "a8255d1f",
   "metadata": {},
   "source": [
    "### Mean and Median k-fold residuals."
   ]
  },
  {
   "cell_type": "code",
   "execution_count": null,
   "id": "51c01188",
   "metadata": {},
   "outputs": [],
   "source": [
    "flat_cst = [item for sublist in residuals_kfolds_cst for item in sublist]\n",
    "flat_cyl = [item for sublist in residuals_kfolds_cyl for item in sublist]\n",
    "flat_N41 = [item for sublist in residuals_kfolds_N41 for item in sublist]\n",
    "flat_domains = [item for sublist in residuals_kfolds_domains for item in sublist]\n",
    "\n",
    "k_fold_mean_cst = np.mean(np.array([np.mean(fold_residuals**2) for fold_residuals in residuals_kfolds_cst]))\n",
    "k_fold_mean_cyl = np.mean(np.array([np.mean(fold_residuals**2) for fold_residuals in residuals_kfolds_cyl]))\n",
    "k_fold_mean_N41 = np.mean(np.array([np.mean(fold_residuals**2) for fold_residuals in residuals_kfolds_N41]))\n",
    "k_fold_mean_domains = np.mean(np.array([np.mean(fold_residuals**2) for fold_residuals in residuals_kfolds_domains]))\n",
    "\n",
    "k_fold_median_cst = np.median(np.array([np.mean(fold_residuals**2) for fold_residuals in residuals_kfolds_cst]))\n",
    "k_fold_median_cyl = np.median(np.array([np.mean(fold_residuals**2) for fold_residuals in residuals_kfolds_cyl]))\n",
    "k_fold_median_N41 = np.median(np.array([np.mean(fold_residuals**2) for fold_residuals in residuals_kfolds_N41]))\n",
    "k_fold_median_domains = np.median(np.array([np.mean(fold_residuals**2) for fold_residuals in residuals_kfolds_domains]))\n",
    "\n",
    "\n",
    "print(\"fold-averaged MSE (constant): {}\".format(k_fold_mean_cst))\n",
    "print(\"fold-median MSE (constant): {}\".format(k_fold_median_cst))\n",
    "\n",
    "print(\"fold-averaged MSE (cylindrical): {}\".format(k_fold_mean_cyl))\n",
    "print(\"fold-median MSE (cylindrical): {}\".format(k_fold_median_cyl))\n",
    "\n",
    "print(\"fold-averaged MSE (fault line): {}\".format(k_fold_mean_N41))\n",
    "print(\"fold-median MSE (fault line): {}\".format(k_fold_median_N41))\n",
    "\n",
    "print(\"fold-averaged MSE (domains): {}\".format(k_fold_mean_domains))\n",
    "print(\"fold-median MSE (domains): {}\".format(k_fold_median_domains))"
   ]
  },
  {
   "cell_type": "code",
   "execution_count": null,
   "id": "a3b4575f",
   "metadata": {
    "tags": []
   },
   "outputs": [],
   "source": [
    "plt.figure(figsize=(17, 5))                                          \n",
    "plt.subplot(131) \n",
    "for i, fold in enumerate(folds_inds):\n",
    "    plt.scatter(data_coords[fold, 0], data_coords[fold, 1], c=np.repeat(np.mean(residuals_kfolds_cst[i]**2), len(fold)), vmin=0, vmax=4.5, cmap='RdBu_r')\n",
    "plt.colorbar()\n",
    "plt.title(r\"RMS k-fold residual ($\\textbf{constant}$)\")\n",
    "plt.xlabel(\"k-fold rmse: {:.3f} [mGal]\".format(np.sqrt(np.mean(np.array(flat_cst)**2))))\n",
    "plt.yticks([])\n",
    "plt.xticks([])\n",
    "\n",
    "plt.subplot(132) \n",
    "for i, fold in enumerate(folds_inds):\n",
    "    plt.scatter(data_coords[fold, 0], data_coords[fold, 1], c=np.repeat(np.sqrt(np.mean(residuals_kfolds_cyl[i]**2)), len(fold)), vmin=0, vmax=4.5, cmap='RdBu_r')\n",
    "plt.colorbar()\n",
    "plt.title(r\"RMS k-fold residual ($\\textbf{cylindrical}$)\")\n",
    "plt.yticks([])\n",
    "plt.xticks([])\n",
    "plt.xlabel(\"k-fold rmse: {:.3f} [mGal]\".format(np.sqrt(np.mean(np.array(flat_cyl)**2))))\n",
    "\n",
    "\n",
    "plt.subplot(133) \n",
    "for i, fold in enumerate(folds_inds):\n",
    "    plt.scatter(data_coords[fold, 0], data_coords[fold, 1], c=np.repeat(np.sqrt(np.mean(residuals_kfolds_N41[i]**2)), len(fold)), vmin=0, vmax=4.5, cmap='RdBu_r')\n",
    "plt.colorbar()\n",
    "plt.title(r\"RMS k-fold residual ($\\textbf{fault line}$)\")\n",
    "plt.yticks([])\n",
    "plt.xticks([])\n",
    "plt.xlabel(\"k-fold rmse: {:.3f} [mGal]\".format(np.sqrt(np.mean(np.array(flat_N41)**2))))\n",
    "plt.savefig(\"kfold_residuals\", bbox_inches='tight', dpi=200)"
   ]
  },
  {
   "cell_type": "markdown",
   "id": "a58c4203-ac08-4bd4-84fc-a1a25852af6c",
   "metadata": {},
   "source": [
    "## Same plots as above, but individually."
   ]
  },
  {
   "cell_type": "code",
   "execution_count": null,
   "id": "62ac0654-0c7f-48ca-8ceb-b28e5582f8d9",
   "metadata": {},
   "outputs": [],
   "source": [
    "plt.figure()\n",
    "for i, fold in enumerate(folds_inds):\n",
    "    plt.scatter(data_coords[fold, 0], data_coords[fold, 1], c=np.repeat(np.mean(residuals_kfolds_cst[i]**2), len(fold)), vmin=0, vmax=10, cmap='RdBu_r')\n",
    "plt.colorbar()\n",
    "plt.xlabel(\"fold-averaged MSE: {:.3f}\\n fold-median MSE {:.3f}\".format(k_fold_mean_cst, k_fold_median_cst))\n",
    "plt.yticks([])\n",
    "plt.xticks([])\n",
    "plt.savefig(\"./images/kfold_res_cst\", bbox_inches='tight', dpi=200)\n",
    "\n",
    "plt.figure()\n",
    "for i, fold in enumerate(folds_inds):\n",
    "    plt.scatter(data_coords[fold, 0], data_coords[fold, 1], c=np.repeat(np.mean(residuals_kfolds_cst_CV[i]**2), len(fold)), vmin=0, vmax=10, cmap='RdBu_r')\n",
    "plt.colorbar()\n",
    "plt.xlabel(\"fold-averaged MSE: {:.3f}\\n fold-median MSE {:.3f}\".format(k_fold_mean_cst_CV, k_fold_median_cst_CV))\n",
    "plt.yticks([])\n",
    "plt.xticks([])\n",
    "plt.savefig(\"./images/kfold_res_cst_CV\", bbox_inches='tight', dpi=200)\n",
    "\n",
    "plt.figure()\n",
    "for i, fold in enumerate(folds_inds):\n",
    "    plt.scatter(data_coords[fold, 0], data_coords[fold, 1], c=np.repeat(np.mean(residuals_kfolds_cyl[i]**2), len(fold)), vmin=0, vmax=10, cmap='RdBu_r')\n",
    "plt.colorbar()\n",
    "plt.xlabel(\"fold-averaged MSE: {:.3f}\\n fold-median MSE {:.3f}\".format(k_fold_mean_cyl, k_fold_median_cyl))\n",
    "plt.yticks([])\n",
    "plt.xticks([])\n",
    "plt.savefig(\"./images/kfold_res_cyl\", bbox_inches='tight', dpi=200)\n",
    "\n",
    "plt.figure()\n",
    "for i, fold in enumerate(folds_inds):\n",
    "    plt.scatter(data_coords[fold, 0], data_coords[fold, 1], c=np.repeat(np.mean(residuals_kfolds_N41[i]**2), len(fold)), vmin=0, vmax=10, cmap='RdBu_r')\n",
    "plt.colorbar()\n",
    "plt.xlabel(\"fold-averaged MSE: {:.3f}\\n fold-median MSE {:.3f}\".format(k_fold_mean_N41, k_fold_median_N41))\n",
    "plt.yticks([])\n",
    "plt.xticks([])\n",
    "plt.savefig(\"./images/kfold_res_N41\", bbox_inches='tight', dpi=200)\n",
    "\n",
    "plt.figure()\n",
    "for i, fold in enumerate(folds_inds):\n",
    "    plt.scatter(data_coords[fold, 0], data_coords[fold, 1], c=np.repeat(np.mean(residuals_kfolds_domains[i]**2), len(fold)), vmin=0, vmax=10, cmap='RdBu_r')\n",
    "plt.colorbar()\n",
    "plt.xlabel(\"fold-averaged MSE: {:.3f}\\n fold-median MSE {:.3f}\".format(k_fold_mean_domains, k_fold_median_domains))\n",
    "plt.yticks([])\n",
    "plt.xticks([])\n",
    "plt.savefig(\"./images/kfold_res_domains\", bbox_inches='tight', dpi=200)"
   ]
  },
  {
   "cell_type": "code",
   "execution_count": null,
   "id": "f9901164-0590-4442-8e7f-f0c2d668de79",
   "metadata": {},
   "outputs": [],
   "source": [
    "plt.figure()\n",
    "plt.scatter(data_coords[:, 0], data_coords[:, 1], c=residuals_loocv_cst**2, cmap='RdBu_r', vmax=0.1)\n",
    "plt.colorbar()\n",
    "plt.xlabel(\"average squared residual: {:.4f} [mGal]\".format(np.mean(residuals_loocv_cst**2)))\n",
    "plt.yticks([])\n",
    "plt.xticks([])\n",
    "plt.savefig(\"./images/loocv_res_cst\", bbox_inches='tight', dpi=200)\n",
    "\n",
    "residuals_loocv_cst_CV = np.load(os.path.join(results_folder_new, \"residuals_loocv_cst_CV.npy\"))\n",
    "plt.figure()\n",
    "plt.scatter(data_coords[:, 0], data_coords[:, 1], c=residuals_loocv_cst_CV**2, cmap='RdBu_r', vmax=0.1)\n",
    "plt.colorbar()\n",
    "plt.xlabel(\"average squared residual: {:.4f} [mGal]\".format(np.mean(residuals_loocv_cst_CV**2)))\n",
    "plt.yticks([])\n",
    "plt.xticks([])\n",
    "plt.savefig(\"./images/loocv_res_cst_CV\", bbox_inches='tight', dpi=200)\n",
    "\n",
    "plt.figure()\n",
    "plt.scatter(data_coords[:, 0], data_coords[:, 1], c=residuals_loocv_cyl**2, cmap='RdBu_r', vmax=0.1)\n",
    "plt.colorbar()\n",
    "plt.xlabel(\"average squared residual: {:.4f} [mGal]\".format(np.mean(residuals_loocv_cyl**2)))\n",
    "plt.yticks([])\n",
    "plt.xticks([])\n",
    "plt.savefig(\"./images/loocv_res_cyl\", bbox_inches='tight', dpi=200)\n",
    "\n",
    "plt.figure()\n",
    "plt.scatter(data_coords[:, 0], data_coords[:, 1], c=residuals_loocv_N41**2, cmap='RdBu_r', vmax=0.1)\n",
    "plt.colorbar()\n",
    "plt.yticks([])\n",
    "plt.xticks([])\n",
    "plt.xlabel(\"average squared residual: {:.4f} [mGal]\".format(np.mean(residuals_loocv_N41**2)))\n",
    "plt.savefig(\"./images/loocv_res_N41\", bbox_inches='tight', dpi=200)\n",
    "\n",
    "plt.figure()\n",
    "plt.scatter(data_coords[:, 0], data_coords[:, 1], c=residuals_loocv_domains**2, cmap='RdBu_r', vmax=0.1)\n",
    "plt.colorbar()\n",
    "plt.yticks([])\n",
    "plt.xticks([])\n",
    "plt.xlabel(\"average squared residual: {:.4f} [mGal]\".format(np.mean(residuals_loocv_domains**2)))\n",
    "plt.savefig(\"./images/loocv_res_domains\", bbox_inches='tight', dpi=200)"
   ]
  },
  {
   "cell_type": "code",
   "execution_count": null,
   "id": "d5ad70ee",
   "metadata": {},
   "outputs": [],
   "source": [
    "sns.histplot(flat_cst, color='g', alpha=1)\n",
    "sns.histplot(flat_cyl, alpha=.6)\n",
    "sns.histplot(flat_N41, color='r', alpha=.7)\n",
    "plt.legend(['constant', 'cylindrical', 'fault line'])\n",
    "plt.title(\"Leave k=10 out residuals.\")\n",
    "plt.xlabel(\"Residual [mGal]\")\n",
    "plt.axvline(0.0, color='k', linestyle='-.', lw=2)\n",
    "plt.savefig(\"kfold_residuals_histogram\", bbox_inches='tight', dpi=200)\n",
    "\n",
    "fig.write_image(\"./images/basis_fn_ceiling.pdf\")"
   ]
  },
  {
   "cell_type": "code",
   "execution_count": null,
   "id": "8263def7",
   "metadata": {},
   "outputs": [],
   "source": [
    "# Explicative plot for LOOCV.\n",
    "# Plot bare folds domain.\n",
    "for i, fold in enumerate(folds_inds):\n",
    "    plt.scatter(data_coords[fold, 0], data_coords[fold, 1], color='k', s=12)\n",
    "\n",
    "# Add one red point.\n",
    "plt.scatter(data_coords[folds_inds[0][0], 0], data_coords[folds_inds[0][0], 1], color='r', s=38)\n",
    "\n",
    "plt.yticks([])\n",
    "plt.xticks([])\n",
    "plt.savefig(\"loocv_domain\", bbox_inches='tight', dpi=200)"
   ]
  },
  {
   "cell_type": "code",
   "execution_count": null,
   "id": "7c112e03",
   "metadata": {},
   "outputs": [],
   "source": [
    "# Explicative plot for k-fold CV.\n",
    "# Plot bare folds domain.\n",
    "for i, fold in enumerate(folds_inds):\n",
    "    plt.scatter(data_coords[fold, 0], data_coords[fold, 1], color='k', s=12)\n",
    "\n",
    "# Add one red point.\n",
    "plt.scatter(data_coords[folds_inds[0][0], 0], data_coords[folds_inds[0][0], 1], color='r', s=42)\n",
    "plt.scatter(data_coords[folds_inds[1][0], 0], data_coords[folds_inds[1][0], 1], color='r', s=42)\n",
    "plt.scatter(data_coords[folds_inds[2][0], 0], data_coords[folds_inds[2][0], 1], color='r', s=42)\n",
    "plt.scatter(data_coords[folds_inds[3][0], 0], data_coords[folds_inds[3][0], 1], color='r', s=42)\n",
    "plt.scatter(data_coords[folds_inds[4][0], 0], data_coords[folds_inds[4][0], 1], color='r', s=42)\n",
    "plt.scatter(data_coords[folds_inds[5][0], 0], data_coords[folds_inds[5][0], 1], color='r', s=42)\n",
    "plt.scatter(data_coords[folds_inds[6][0], 0], data_coords[folds_inds[6][0], 1], color='r', s=42)\n",
    "\n",
    "\n",
    "plt.yticks([])\n",
    "plt.xticks([])\n",
    "plt.savefig(\"kfold_domain\", bbox_inches='tight', dpi=200)"
   ]
  },
  {
   "cell_type": "markdown",
   "id": "23446a27-0621-4067-9f81-879e9f2d6fe9",
   "metadata": {},
   "source": [
    "# Plot residuals covariance."
   ]
  },
  {
   "cell_type": "code",
   "execution_count": null,
   "id": "46c53331-2106-411b-91ff-9acaf27d593b",
   "metadata": {},
   "outputs": [],
   "source": [
    "k_tilde_inv_cyl = np.load(os.path.join(results_folder, \"k_tilde_inv_cyl.npy\"), allow_pickle=True)\n",
    "k_tilde_inv_cst = np.load(os.path.join(results_folder, \"k_tilde_inv_cst.npy\"), allow_pickle=True)\n",
    "k_tilde_inv_N41 = np.load(os.path.join(results_folder, \"k_tilde_inv_N41.npy\"), allow_pickle=True)"
   ]
  },
  {
   "cell_type": "code",
   "execution_count": null,
   "id": "d1b7a970-1a05-40d1-b6e4-b3fe0a2c4471",
   "metadata": {},
   "outputs": [],
   "source": [
    "from volcapy.update.universal_kriging import UniversalUpdatableGP\n",
    "\n",
    "\n",
    "inds = np.array(range(data_coords.shape[0]))\n",
    "ind_cutoff = 538\n",
    "inds_i = np.array(range(ind_cutoff))\n",
    "inds_j = np.delete(inds, inds_i)\n",
    "cov_ij = UniversalUpdatableGP._residuals_cov(inds_i, inds_j, k_tilde_inv_cst)\n",
    "cov_ii = UniversalUpdatableGP._residuals_cov(inds_i, inds_i, k_tilde_inv_cst)\n",
    "cov_jj = UniversalUpdatableGP._residuals_cov(inds_j, inds_j, k_tilde_inv_cst)\n",
    "cov_full = UniversalUpdatableGP._residuals_cov(inds, inds, k_tilde_inv_cst)\n",
    "\n",
    "plt.figure()\n",
    "plt.scatter(data_coords[i, 0], data_coords[i, 1], c=\"Red\", marker=\"+\")\n",
    "for i, ind_j in enumerate(inds_j):\n",
    "    plt.scatter(data_coords[ind_j, 0], data_coords[ind_j, 1], c=cov_test[0, i], vmin=-0.1, vmax=0.1, cmap='RdBu_r')\n",
    "plt.colorbar()\n",
    "plt.xlabel(\"k-fold rmse: {:.3f} [mGal]\".format(np.sqrt(np.mean(np.array(flat_cst)**2))))\n",
    "plt.yticks([])\n",
    "plt.xticks([])\n",
    "# plt.savefig(\"./images/kfold_res_cst\", bbox_inches='tight', dpi=200)\n",
    "plt.show()"
   ]
  },
  {
   "cell_type": "code",
   "execution_count": null,
   "id": "d55492e2-da80-4e51-8728-b5942bc052b5",
   "metadata": {},
   "outputs": [],
   "source": []
  },
  {
   "cell_type": "code",
   "execution_count": null,
   "id": "f40eb14c-c4d8-419e-8bba-77a763cbdd8a",
   "metadata": {},
   "outputs": [],
   "source": [
    "# Compute leave-one-out variances.\n",
    "loo_vars_cst = np.array([UniversalUpdatableGP._residuals_cov(np.array([ind_i]), np.array([ind_i]), k_tilde_inv_cst) for ind_i in inds])\n",
    "loo_vars_cyl = np.array([UniversalUpdatableGP._residuals_cov(np.array([ind_i]), np.array([ind_i]), k_tilde_inv_cyl) for ind_i in inds])\n",
    "loo_vars_N41 = np.array([UniversalUpdatableGP._residuals_cov(np.array([ind_i]), np.array([ind_i]), k_tilde_inv_N41) for ind_i in inds])"
   ]
  },
  {
   "cell_type": "code",
   "execution_count": null,
   "id": "6ea5b9a2-d25c-472b-839b-6679791359ec",
   "metadata": {},
   "outputs": [],
   "source": [
    "print(np.sqrt(loo_vars_cst.max()))\n",
    "print(loo_vars_cyl.max())\n",
    "print(loo_vars_N41.max())\n",
    "plt.figure(figsize=(17, 5))\n",
    "plt.subplot(131)\n",
    "plt.scatter(data_coords[:, 0], data_coords[:, 1], c=np.sqrt(loo_vars_cst), vmin=0.1, vmax=0.101)\n",
    "plt.colorbar()\n",
    "plt.savefig(\"loocv_vars_cst\", bbox_inches='tight', dpi=200)\n",
    "\n",
    "plt.figure()\n",
    "plt.subplot(132)\n",
    "plt.scatter(data_coords[:, 0], data_coords[:, 1], c=loo_vars_cyl, vmax=0.1)\n",
    "plt.subplot(133)\n",
    "plt.scatter(data_coords[:, 0], data_coords[:, 1], c=loo_vars_N41, vmax=0.1)"
   ]
  },
  {
   "cell_type": "code",
   "execution_count": null,
   "id": "5a077273-125f-495d-9bfb-ef1d80bb6024",
   "metadata": {},
   "outputs": [],
   "source": [
    "cov_tmp = np.linalg.inv(k_tilde_inv_cst[inds_i, :][:, inds_i])\n",
    "stds_tmp = np.diag(cov_tmp)\n",
    "plt.figure()\n",
    "plt.scatter(data_coords[:ind_cutoff, 0], data_coords[:ind_cutoff, 1], c=stds_tmp, vmin=0.01, vmax=0.1)"
   ]
  },
  {
   "cell_type": "code",
   "execution_count": null,
   "id": "1c24f5ae-ca04-4f2f-b227-bbe0a0a38091",
   "metadata": {},
   "outputs": [],
   "source": [
    "cov_tmp = np.linalg.inv(k_tilde_inv_cyl[inds_i, :][:, inds_i])\n",
    "stds_tmp = np.diag(cov_tmp)\n",
    "plt.figure()\n",
    "plt.scatter(data_coords[:ind_cutoff, 0], data_coords[:ind_cutoff, 1], c=stds_tmp, vmin=0.01, vmax=0.1)\n",
    "plt.scatter(data_coords[ind_cutoff:, 0], data_coords[ind_cutoff:, 1], vmin=0.01, vmax=0.1)\n",
    "plt.colorbar()"
   ]
  },
  {
   "cell_type": "code",
   "execution_count": null,
   "id": "8d09ce0e-6c86-44de-bb51-e6ed5a374a88",
   "metadata": {},
   "outputs": [],
   "source": [
    "cov_tmp = np.linalg.inv(k_tilde_inv_N41[inds_i, :][:, inds_i])\n",
    "stds_tmp = np.diag(cov_tmp)\n",
    "plt.figure()\n",
    "plt.scatter(data_coords[:ind_cutoff, 0], data_coords[:ind_cutoff, 1], c=stds_tmp, vmin=0.01, vmax=0.1)\n",
    "plt.scatter(data_coords[ind_cutoff:, 0], data_coords[ind_cutoff:, 1], vmin=0.01, vmax=0.1)\n",
    "plt.colorbar()"
   ]
  },
  {
   "cell_type": "code",
   "execution_count": null,
   "id": "b06c9abf-5c85-4199-b834-613b009804ff",
   "metadata": {},
   "outputs": [],
   "source": [
    "cov_tmp = np.linalg.inv(k_tilde_inv_N41[folds_inds[0], :][:, folds_inds[0]])\n",
    "stds_tmp = np.diag(cov_tmp)\n",
    "plt.figure()\n",
    "plt.scatter(data_coords[folds_inds[0], 0], data_coords[folds_inds[0], 1], c=stds_tmp, vmin=0.01, vmax=0.012)\n",
    "# plt.scatter(data_coords[ind_cutoff:, 0], data_coords[ind_cutoff:, 1], vmin=0.01, vmax=0.1)\n",
    "plt.colorbar()"
   ]
  },
  {
   "cell_type": "markdown",
   "id": "31f760b4-6616-41ec-b235-88f14e9531da",
   "metadata": {},
   "source": [
    "## See what happens with the new, fixed CV computation."
   ]
  },
  {
   "cell_type": "code",
   "execution_count": null,
   "id": "606599d8-5214-4d29-9df1-b54802d7e113",
   "metadata": {},
   "outputs": [],
   "source": [
    "results_folder_new = \"/home/cedric/PHD/Dev/VolcapySIAM/reporting/universal_kriging/results/Stromboli_fixedCV/\"\n",
    "df_CV = pd.read_pickle(os.path.join(results_folder_new, \"df_models_residuals_merged.pkl\"))\n",
    "\n",
    "df_CV = pd.read_pickle(os.path.join(results_folder, \"df_models_residuals_complementary_run.pkl\"))\n",
    "\n",
    "folds_inds_2 = np.load(os.path.join(results_folder_new, \"folds_inds_2_folds.pkl\"), allow_pickle=True)\n",
    "folds_inds_5 = np.load(os.path.join(results_folder_new, \"folds_inds_5_folds.pkl\"), allow_pickle=True)\n",
    "folds_inds_10 = np.load(os.path.join(results_folder_new, \"folds_inds_10_folds.pkl\"), allow_pickle=True)\n",
    "folds_inds_20 = np.load(os.path.join(results_folder_new, \"folds_inds_20_folds.pkl\"), allow_pickle=True)\n",
    "folds_inds_30 = np.load(os.path.join(results_folder_new, \"folds_inds_30_folds.pkl\"), allow_pickle=True)\n",
    "folds_inds_40 = np.load(os.path.join(results_folder_new, \"folds_inds_40_folds.pkl\"), allow_pickle=True)"
   ]
  },
  {
   "cell_type": "code",
   "execution_count": null,
   "id": "7d2b5a02-ffbf-4fea-b672-be16319f9412",
   "metadata": {},
   "outputs": [],
   "source": [
    "tmp = df_CV.loc[(df_CV['model'] == 'cylinder') & (df_CV['k'] == 10)].residuals.item()"
   ]
  },
  {
   "cell_type": "code",
   "execution_count": null,
   "id": "c58eed16-b5bb-4859-a52e-db5b007f7ba2",
   "metadata": {},
   "outputs": [],
   "source": [
    "flat_cst = 10\n",
    "\n",
    "res_cyl_10 = df_CV.loc[(df_CV['model'] == 'cylinder') & (df_CV['k'] == 10)].residuals.item()\n",
    "plt.figure()\n",
    "for i, fold in enumerate(folds_inds_10):\n",
    "    plt.scatter(data_coords[fold, 0], data_coords[fold, 1], c=np.repeat(np.sqrt(np.mean(res_cyl_10[i]**2)), len(fold)), vmin=0, vmax=3.5, cmap='Reds')\n",
    "plt.colorbar()\n",
    "plt.xlabel(\"k-fold rmse: {:.3f} [mGal]\".format(np.sqrt(np.mean(np.array(flat_cst)**2))))\n",
    "plt.yticks([])\n",
    "plt.xticks([])\n",
    "# plt.savefig(\"./images/kfold_res_cst\", bbox_inches='tight', dpi=200)\n",
    "plt.show()\n",
    "\n",
    "res_N41_10 = df_CV.loc[(df_CV['model'] == 'fault line') & (df_CV['k'] == 10)].residuals.item()\n",
    "plt.figure()\n",
    "for i, fold in enumerate(folds_inds_10):\n",
    "    plt.scatter(data_coords[fold, 0], data_coords[fold, 1], c=np.repeat(np.sqrt(np.mean(res_N41_10[i]**2)), len(fold)), vmin=0, vmax=3.5, cmap='Reds')\n",
    "plt.colorbar()\n",
    "plt.xlabel(\"k-fold rmse: {:.3f} [mGal]\".format(np.sqrt(np.mean(np.array(flat_cst)**2))))\n",
    "plt.yticks([])\n",
    "plt.xticks([])\n",
    "# plt.savefig(\"./images/kfold_res_cst\", bbox_inches='tight', dpi=200)\n",
    "plt.show()\n",
    "\n",
    "res_doms_10 = df_CV.loc[(df_CV['model'] == 'piecewise domains') & (df_CV['k'] == 10)].residuals.item()\n",
    "plt.figure()\n",
    "for i, fold in enumerate(folds_inds_10):\n",
    "    plt.scatter(data_coords[fold, 0], data_coords[fold, 1], c=np.repeat(np.sqrt(np.mean(res_doms_10[i]**2)), len(fold)), vmin=0, vmax=3.5, cmap='Reds')\n",
    "plt.colorbar()\n",
    "plt.xlabel(\"k-fold rmse: {:.3f} [mGal]\".format(np.sqrt(np.mean(np.array(flat_cst)**2))))\n",
    "plt.yticks([])\n",
    "plt.xticks([])\n",
    "# plt.savefig(\"./images/kfold_res_cst\", bbox_inches='tight', dpi=200)\n",
    "plt.show()\n",
    "\n",
    "res_cst_10 = df_CV.loc[(df_CV['model'] == 'constant') & (df_CV['k'] == 10)].residuals.item()\n",
    "plt.figure()\n",
    "for i, fold in enumerate(folds_inds_10):\n",
    "    plt.scatter(data_coords[fold, 0], data_coords[fold, 1], c=np.repeat(np.sqrt(np.mean(res_cst_10[i]**2)), len(fold)), vmin=0, vmax=3.5, cmap='Reds')\n",
    "plt.colorbar()\n",
    "plt.xlabel(\"k-fold rmse: {:.3f} [mGal]\".format(np.sqrt(np.mean(np.array(flat_cst)**2))))\n",
    "plt.yticks([])\n",
    "plt.xticks([])\n",
    "# plt.savefig(\"./images/kfold_res_cst\", bbox_inches='tight', dpi=200)\n",
    "plt.show()"
   ]
  },
  {
   "cell_type": "code",
   "execution_count": null,
   "id": "1b236f22-af51-4096-bf21-bc06c1ffc636",
   "metadata": {},
   "outputs": [],
   "source": [
    "flat_cst = 10\n",
    "\n",
    "res_cyl_5 = df_CV.loc[(df_CV['model'] == 'cylinder') & (df_CV['k'] == 5)].residuals.item()\n",
    "plt.figure()\n",
    "for i, fold in enumerate(folds_inds_5):\n",
    "    plt.scatter(data_coords[fold, 0], data_coords[fold, 1], c=np.repeat(np.sqrt(np.mean(res_cyl_10[i]**2)), len(fold)), vmin=0, vmax=3.5, cmap='Reds')\n",
    "plt.colorbar()\n",
    "plt.xlabel(\"k-fold rmse: {:.3f} [mGal]\".format(np.sqrt(np.mean(np.array(flat_cst)**2))))\n",
    "plt.yticks([])\n",
    "plt.xticks([])\n",
    "# plt.savefig(\"./images/kfold_res_cst\", bbox_inches='tight', dpi=200)\n",
    "plt.show()\n",
    "\n",
    "res_N41_5 = df_CV.loc[(df_CV['model'] == 'fault line') & (df_CV['k'] == 5)].residuals.item()\n",
    "plt.figure()\n",
    "for i, fold in enumerate(folds_inds_5):\n",
    "    plt.scatter(data_coords[fold, 0], data_coords[fold, 1], c=np.repeat(np.sqrt(np.mean(res_N41_10[i]**2)), len(fold)), vmin=0, vmax=3.5, cmap='Reds')\n",
    "plt.colorbar()\n",
    "plt.xlabel(\"k-fold rmse: {:.3f} [mGal]\".format(np.sqrt(np.mean(np.array(flat_cst)**2))))\n",
    "plt.yticks([])\n",
    "plt.xticks([])\n",
    "# plt.savefig(\"./images/kfold_res_cst\", bbox_inches='tight', dpi=200)\n",
    "plt.show()\n",
    "\n",
    "res_doms_5 = df_CV.loc[(df_CV['model'] == 'piecewise domains') & (df_CV['k'] == 5)].residuals.item()\n",
    "plt.figure()\n",
    "for i, fold in enumerate(folds_inds_5):\n",
    "    plt.scatter(data_coords[fold, 0], data_coords[fold, 1], c=np.repeat(np.sqrt(np.mean(res_doms_5[i]**2)), len(fold)), vmin=0, vmax=3.5, cmap='Reds')\n",
    "plt.colorbar()\n",
    "plt.xlabel(\"k-fold rmse: {:.3f} [mGal]\".format(np.sqrt(np.mean(np.array(flat_cst)**2))))\n",
    "plt.yticks([])\n",
    "plt.xticks([])\n",
    "# plt.savefig(\"./images/kfold_res_cst\", bbox_inches='tight', dpi=200)\n",
    "plt.show()\n",
    "\n",
    "res_cst_5 = df_CV.loc[(df_CV['model'] == 'constant') & (df_CV['k'] == 5)].residuals.item()\n",
    "plt.figure()\n",
    "for i, fold in enumerate(folds_inds_5):\n",
    "    plt.scatter(data_coords[fold, 0], data_coords[fold, 1], c=np.repeat(np.sqrt(np.mean(res_cst_5[i]**2)), len(fold)), vmin=0, vmax=3.5, cmap='Reds')\n",
    "plt.colorbar()\n",
    "plt.xlabel(\"k-fold rmse: {:.3f} [mGal]\".format(np.sqrt(np.mean(np.array(flat_cst)**2))))\n",
    "plt.yticks([])\n",
    "plt.xticks([])\n",
    "# plt.savefig(\"./images/kfold_res_cst\", bbox_inches='tight', dpi=200)\n",
    "plt.show()"
   ]
  },
  {
   "cell_type": "code",
   "execution_count": null,
   "id": "ebf4144c-82e5-46e7-bf19-53491c091a5f",
   "metadata": {},
   "outputs": [],
   "source": [
    "flat_cst = 10\n",
    "\n",
    "res_cyl_20 = df_CV.loc[(df_CV['model'] == 'cylinder') & (df_CV['k'] == 20)].residuals.item()\n",
    "plt.figure()\n",
    "for i, fold in enumerate(folds_inds_20):\n",
    "    plt.scatter(data_coords[fold, 0], data_coords[fold, 1], c=np.repeat(np.sqrt(np.mean(res_cyl_20[i]**2)), len(fold)), vmin=0, vmax=3.5, cmap='Reds')\n",
    "plt.colorbar()\n",
    "plt.xlabel(\"k-fold rmse: {:.3f} [mGal]\".format(np.sqrt(np.mean(np.array(flat_cst)**2))))\n",
    "plt.yticks([])\n",
    "plt.xticks([])\n",
    "# plt.savefig(\"./images/kfold_res_cst\", bbox_inches='tight', dpi=200)\n",
    "plt.show()\n",
    "\n",
    "res_N41_20 = df_CV.loc[(df_CV['model'] == 'fault line') & (df_CV['k'] == 20)].residuals.item()\n",
    "plt.figure()\n",
    "for i, fold in enumerate(folds_inds_20):\n",
    "    plt.scatter(data_coords[fold, 0], data_coords[fold, 1], c=np.repeat(np.sqrt(np.mean(res_N41_20[i]**2)), len(fold)), vmin=0, vmax=3.5, cmap='Reds')\n",
    "plt.colorbar()\n",
    "plt.xlabel(\"k-fold rmse: {:.3f} [mGal]\".format(np.sqrt(np.mean(np.array(flat_cst)**2))))\n",
    "plt.yticks([])\n",
    "plt.xticks([])\n",
    "# plt.savefig(\"./images/kfold_res_cst\", bbox_inches='tight', dpi=200)\n",
    "plt.show()\n",
    "\n",
    "res_doms_20 = df_CV.loc[(df_CV['model'] == 'piecewise domains') & (df_CV['k'] == 20)].residuals.item()\n",
    "plt.figure()\n",
    "for i, fold in enumerate(folds_inds_20):\n",
    "    plt.scatter(data_coords[fold, 0], data_coords[fold, 1], c=np.repeat(np.sqrt(np.mean(res_doms_20[i]**2)), len(fold)), vmin=0, vmax=3.5, cmap='Reds')\n",
    "plt.colorbar()\n",
    "plt.xlabel(\"k-fold rmse: {:.3f} [mGal]\".format(np.sqrt(np.mean(np.array(flat_cst)**2))))\n",
    "plt.yticks([])\n",
    "plt.xticks([])\n",
    "# plt.savefig(\"./images/kfold_res_cst\", bbox_inches='tight', dpi=200)\n",
    "plt.show()\n",
    "\n",
    "res_cst_20 = df_CV.loc[(df_CV['model'] == 'constant') & (df_CV['k'] == 20)].residuals.item()\n",
    "plt.figure()\n",
    "for i, fold in enumerate(folds_inds_20):\n",
    "    plt.scatter(data_coords[fold, 0], data_coords[fold, 1], c=np.repeat(np.sqrt(np.mean(res_cst_20[i]**2)), len(fold)), vmin=0, vmax=3.5, cmap='Reds')\n",
    "plt.colorbar()\n",
    "plt.xlabel(\"k-fold rmse: {:.3f} [mGal]\".format(np.sqrt(np.mean(np.array(flat_cst)**2))))\n",
    "plt.yticks([])\n",
    "plt.xticks([])\n",
    "# plt.savefig(\"./images/kfold_res_cst\", bbox_inches='tight', dpi=200)\n",
    "plt.show()\n"
   ]
  },
  {
   "cell_type": "code",
   "execution_count": null,
   "id": "7af9459f-d9d8-4b8b-a907-e96df06bafce",
   "metadata": {},
   "outputs": [],
   "source": [
    "flat_cst = 10\n",
    "\n",
    "res_cyl_40 = df_CV.loc[(df_CV['model'] == 'cylinder') & (df_CV['k'] == 40)].residuals.item()\n",
    "plt.figure()\n",
    "for i, fold in enumerate(folds_inds_40):\n",
    "    plt.scatter(data_coords[fold, 0], data_coords[fold, 1], c=np.repeat(np.sqrt(np.mean(res_cyl_40[i]**2)), len(fold)), vmin=0, vmax=3, cmap='Reds')\n",
    "plt.colorbar()\n",
    "plt.xlabel(\"k-fold rmse: {:.3f} [mGal]\".format(np.sqrt(np.mean(np.array(flat_cst)**2))))\n",
    "plt.yticks([])\n",
    "plt.xticks([])\n",
    "# plt.savefig(\"./images/kfold_res_cst\", bbox_inches='tight', dpi=200)\n",
    "plt.show()\n",
    "\n",
    "res_N41_40 = df_CV.loc[(df_CV['model'] == 'fault line') & (df_CV['k'] == 40)].residuals.item()\n",
    "plt.figure()\n",
    "for i, fold in enumerate(folds_inds_40):\n",
    "    plt.scatter(data_coords[fold, 0], data_coords[fold, 1], c=np.repeat(np.sqrt(np.mean(res_N41_40[i]**2)), len(fold)), vmin=0, vmax=3, cmap='Reds')\n",
    "plt.colorbar()\n",
    "plt.xlabel(\"k-fold rmse: {:.3f} [mGal]\".format(np.sqrt(np.mean(np.array(flat_cst)**2))))\n",
    "plt.yticks([])\n",
    "plt.xticks([])\n",
    "# plt.savefig(\"./images/kfold_res_cst\", bbox_inches='tight', dpi=200)\n",
    "plt.show()\n",
    "\n",
    "res_doms_40 = df_CV.loc[(df_CV['model'] == 'piecewise domains') & (df_CV['k'] == 40)].residuals.item()\n",
    "plt.figure()\n",
    "for i, fold in enumerate(folds_inds_40):\n",
    "    plt.scatter(data_coords[fold, 0], data_coords[fold, 1], c=np.repeat(np.sqrt(np.mean(res_doms_40[i]**2)), len(fold)), vmin=0, vmax=3, cmap='Reds')\n",
    "plt.colorbar()\n",
    "plt.xlabel(\"k-fold rmse: {:.3f} [mGal]\".format(np.sqrt(np.mean(np.array(flat_cst)**2))))\n",
    "plt.yticks([])\n",
    "plt.xticks([])\n",
    "# plt.savefig(\"./images/kfold_res_cst\", bbox_inches='tight', dpi=200)\n",
    "plt.show()\n",
    "\n",
    "res_cst_40 = df_CV.loc[(df_CV['model'] == 'constant') & (df_CV['k'] == 40)].residuals.item()\n",
    "plt.figure()\n",
    "for i, fold in enumerate(folds_inds_40):\n",
    "    plt.scatter(data_coords[fold, 0], data_coords[fold, 1], c=np.repeat(np.sqrt(np.mean(res_cst_40[i]**2)), len(fold)), vmin=0, vmax=3, cmap='Reds')\n",
    "plt.colorbar()\n",
    "plt.xlabel(\"k-fold rmse: {:.3f} [mGal]\".format(np.sqrt(np.mean(np.array(flat_cst)**2))))\n",
    "plt.yticks([])\n",
    "plt.xticks([])\n",
    "# plt.savefig(\"./images/kfold_res_cst\", bbox_inches='tight', dpi=200)\n",
    "plt.show()"
   ]
  },
  {
   "cell_type": "code",
   "execution_count": null,
   "id": "026e2c4f-a570-4f64-a7e3-6aa02ce4b3fc",
   "metadata": {},
   "outputs": [],
   "source": [
    "flat_cst = 10\n",
    "\n",
    "res_cyl_2 = df_CV.loc[(df_CV['model'] == 'cylinder') & (df_CV['k'] == 2)].residuals.item()\n",
    "plt.figure()\n",
    "for i, fold in enumerate(folds_inds_2):\n",
    "    plt.scatter(data_coords[fold, 0], data_coords[fold, 1], c=np.repeat(np.sqrt(np.mean(res_cyl_2[i]**2)), len(fold)), cmap='Reds')\n",
    "plt.colorbar()\n",
    "plt.xlabel(\"k-fold rmse: {:.3f} [mGal]\".format(np.sqrt(np.mean(np.array(flat_cst)**2))))\n",
    "plt.yticks([])\n",
    "plt.xticks([])\n",
    "# plt.savefig(\"./images/kfold_res_cst\", bbox_inches='tight', dpi=200)\n",
    "plt.show()\n",
    "\n",
    "res_N41_2 = df_CV.loc[(df_CV['model'] == 'fault line') & (df_CV['k'] == 2)].residuals.item()\n",
    "plt.figure()\n",
    "for i, fold in enumerate(folds_inds_2):\n",
    "    plt.scatter(data_coords[fold, 0], data_coords[fold, 1], c=np.repeat(np.sqrt(np.mean(res_N41_2[i]**2)), len(fold)), cmap='Reds')\n",
    "plt.colorbar()\n",
    "plt.xlabel(\"k-fold rmse: {:.3f} [mGal]\".format(np.sqrt(np.mean(np.array(flat_cst)**2))))\n",
    "plt.yticks([])\n",
    "plt.xticks([])\n",
    "# plt.savefig(\"./images/kfold_res_cst\", bbox_inches='tight', dpi=200)\n",
    "plt.show()\n",
    "\n",
    "res_doms_2 = df_CV.loc[(df_CV['model'] == 'piecewise domains') & (df_CV['k'] == 30)].residuals.item()\n",
    "plt.figure()\n",
    "for i, fold in enumerate(folds_inds_2):\n",
    "    plt.scatter(data_coords[fold, 0], data_coords[fold, 1], c=np.repeat(np.sqrt(np.mean(res_doms_2[i]**2)), len(fold)), cmap='Reds')\n",
    "plt.colorbar()\n",
    "plt.xlabel(\"k-fold rmse: {:.3f} [mGal]\".format(np.sqrt(np.mean(np.array(flat_cst)**2))))\n",
    "plt.yticks([])\n",
    "plt.xticks([])\n",
    "# plt.savefig(\"./images/kfold_res_cst\", bbox_inches='tight', dpi=200)\n",
    "plt.show()\n",
    "\n",
    "res_cst_2 = df_CV.loc[(df_CV['model'] == 'constant') & (df_CV['k'] == 2)].residuals.item()\n",
    "plt.figure()\n",
    "for i, fold in enumerate(folds_inds_2):\n",
    "    plt.scatter(data_coords[fold, 0], data_coords[fold, 1], c=np.repeat(np.sqrt(np.mean(res_cst_2[i]**2)), len(fold)), cmap='Reds')\n",
    "plt.colorbar()\n",
    "plt.xlabel(\"k-fold rmse: {:.3f} [mGal]\".format(np.sqrt(np.mean(np.array(flat_cst)**2))))\n",
    "plt.yticks([])\n",
    "plt.xticks([])\n",
    "# plt.savefig(\"./images/kfold_res_cst\", bbox_inches='tight', dpi=200)\n",
    "plt.show()"
   ]
  },
  {
   "cell_type": "markdown",
   "id": "c4745871-f76e-43fe-bbdf-f5c5dbec5b54",
   "metadata": {},
   "source": [
    "### Mean k-fold residuals."
   ]
  },
  {
   "cell_type": "code",
   "execution_count": null,
   "id": "e5a9b00e-e6af-4b65-bcdb-08a102da8536",
   "metadata": {},
   "outputs": [],
   "source": [
    "flat_cst = [item for sublist in res_cst_10 for item in sublist]\n",
    "print(\"10-fold rmse (constant): {}\".format(np.sqrt(np.mean(np.array(flat_cst)**2))))\n",
    "flat_cyl = [item for sublist in res_cyl_10 for item in sublist]\n",
    "print(\"10-fold rmse (cylindrical): {}\".format(np.sqrt(np.mean(np.array(flat_cyl)**2))))\n",
    "flat_N41 = [item for sublist in res_N41_10 for item in sublist]\n",
    "print(\"10-fold rmse (fault line): {}\".format(np.sqrt(np.mean(np.array(flat_N41)**2))))\n",
    "flat_domains = [item for sublist in res_doms_10 for item in sublist]\n",
    "print(\"10-fold rmse (domains): {}\".format(np.sqrt(np.mean(np.array(flat_domains)**2))))\n",
    "print(\"\\n\")"
   ]
  },
  {
   "cell_type": "code",
   "execution_count": null,
   "id": "02fb4886-dc04-4197-adb3-60f8639e089b",
   "metadata": {},
   "outputs": [],
   "source": [
    "%matplotlib inline\n",
    "tmp_models_list, tmp_k_list, tmp_res_rmse_list = [], [], []\n",
    "for k in np.unique(df_CV['k']):\n",
    "    for model in ['constant', 'cylinder', 'fault line', 'piecewise domains']:\n",
    "        tmp = df_CV.loc[(df_CV['model'] == model) & (df_CV['k'] == k)].residuals.item()\n",
    "        flat_residuals = [item for sublist in tmp for item in sublist]\n",
    "        residuals_rmse = np.sqrt(np.mean(np.array(flat_residuals)**2))\n",
    "        print(\"{}-fold rmse ({}): {}\".format(k, model, residuals_rmse))\n",
    "        tmp_models_list.append(model)\n",
    "        tmp_k_list.append(k)\n",
    "        tmp_res_rmse_list.append(residuals_rmse)\n",
    "    print(\"\\n\")\n",
    "    \n",
    "df_res_evolution = pd.DataFrame({'model': tmp_models_list, 'k': tmp_k_list, 'residuals RMSE': tmp_res_rmse_list})\n",
    "sns.lineplot(data=df_res_evolution, x=\"k\", y=\"residuals RMSE\", hue=\"model\", linestyle='--', marker='*', markersize=10)\n",
    "plt.yscale('log')"
   ]
  },
  {
   "cell_type": "code",
   "execution_count": null,
   "id": "dcd297d6-6f3d-4441-afc5-5a89e23667da",
   "metadata": {},
   "outputs": [],
   "source": [
    "# Explore why the pw. domains have one high residual.\n",
    "tmp = df_CV.loc[(df_CV['model'] == 'piecewise domains') & (df_CV['k'] == 40)].residuals.item()\n",
    "flat_residuals = [item for sublist in tmp for item in sublist]\n",
    "sns.histplot(flat_residuals)\n",
    "plt.show()\n",
    "flat_residuals_mean = [np.mean(x) for x in tmp]\n",
    "sns.histplot(flat_residuals_mean)\n",
    "plt.show()"
   ]
  },
  {
   "cell_type": "markdown",
   "id": "9d0bb5f6-2d70-46c7-b8e7-9997292f9f29",
   "metadata": {},
   "source": [
    "## Plot training with cross-validation."
   ]
  },
  {
   "cell_type": "code",
   "execution_count": null,
   "id": "51d3fc21-74bd-4d3f-be98-d4f0c352099b",
   "metadata": {},
   "outputs": [],
   "source": [
    "df_train = pd.read_pickle(os.path.join(results_folder_new, \"train_res_cst_CV_10_folds_niklas.pkl\"))"
   ]
  },
  {
   "cell_type": "code",
   "execution_count": null,
   "id": "513de4a7-a4ad-44df-a15b-1cf23e9866d1",
   "metadata": {},
   "outputs": [],
   "source": [
    "df_train['mean average squared residual'] = df_train['average squared residual'].apply(lambda x: np.mean(x))\n",
    "df_train['median average squared residual'] = df_train['average squared residual'].apply(lambda x: np.median(x))"
   ]
  },
  {
   "cell_type": "code",
   "execution_count": null,
   "id": "9f791be2-dc88-4aeb-a393-c96ec9f5224b",
   "metadata": {},
   "outputs": [],
   "source": [
    "plot_params = {\n",
    "        'font.size': 20, 'font.style': 'oblique',\n",
    "        'axes.labelsize': 'small',\n",
    "        'axes.titlesize':'small',\n",
    "        'legend.fontsize': 'small',\n",
    "        'xtick.labelsize': 'xx-small',\n",
    "        }\n",
    "plt.rcParams.update(plot_params)\n",
    "\n",
    "plt.figure(figsize=(13, 5))\n",
    "plt.subplot(121)\n",
    "plt.tricontourf(df_train['lambda0'], df_train['sigma0'], df_train['mean average squared residual'], vmin=0.5, vmax=4, cmap='jet', levels=100)\n",
    "plt.title(\"mean average squared residual\")\n",
    "plt.ylabel('$\\sigma_0$')\n",
    "plt.xlabel('$\\lambda_0$')\n",
    "\n",
    "plt.colorbar()\n",
    "plt.subplot(122)\n",
    "plt.tricontourf(df_train['lambda0'], df_train['sigma0'], df_train['median average squared residual'], vmin=0.5, vmax=4, cmap='jet', levels=100)\n",
    "plt.title(\"median average squared residual\")\n",
    "plt.ylabel('$\\sigma_0$')\n",
    "plt.xlabel('$\\lambda_0$')\n",
    "plt.colorbar()\n",
    "plt.savefig(\"./images/train_res_cst_CV\", bbox_inches='tight', dpi=200)"
   ]
  },
  {
   "cell_type": "code",
   "execution_count": null,
   "id": "9747b999-3253-4ea7-b990-04d1b175e856",
   "metadata": {},
   "outputs": [],
   "source": [
    "df_train.iloc[df_train['median average squared residual'].idxmin()]"
   ]
  },
  {
   "cell_type": "markdown",
   "id": "b53d7c3a-99d7-49b4-af4b-db614c258942",
   "metadata": {},
   "source": [
    "### Cylindrical model: train CV"
   ]
  },
  {
   "cell_type": "code",
   "execution_count": null,
   "id": "11be1119-a998-41f6-964f-bc1d840b0d5c",
   "metadata": {},
   "outputs": [],
   "source": [
    "df_train_cyl = pd.read_pickle(os.path.join(results_folder, \"train_res_cyl_CV_10_folds_niklas.pkl\"))\n",
    "df_train_cyl['mean average squared residual'] = df_train_cyl['average squared residual'].apply(lambda x: np.mean(x))\n",
    "df_train_cyl['median average squared residual'] = df_train_cyl['average squared residual'].apply(lambda x: np.median(x))\n",
    "\n",
    "plt.figure(figsize=(13, 5))\n",
    "plt.subplot(121)\n",
    "plt.tricontourf(df_train_cyl['lambda0'], df_train_cyl['sigma0'], df_train_cyl['mean average squared residual'], vmin=0.5, vmax=4, cmap='jet', levels=100)\n",
    "plt.title(\"mean average squared residual\")\n",
    "plt.colorbar()\n",
    "plt.subplot(122)\n",
    "plt.tricontourf(df_train_cyl['lambda0'], df_train_cyl['sigma0'], df_train_cyl['median average squared residual'], vmin=0.5, vmax=4, cmap='jet', levels=100)\n",
    "plt.title(\"median average squared residual\")\n",
    "plt.colorbar()\n",
    "plt.savefig(\"./images/train_res_cyl_CV\", bbox_inches='tight', dpi=200)"
   ]
  },
  {
   "cell_type": "code",
   "execution_count": null,
   "id": "50462ea4-f2d8-43da-a17a-974ca909c7e7",
   "metadata": {},
   "outputs": [],
   "source": [
    "df_train_cyl.iloc[df_train_cyl['median average squared residual'].idxmin()]"
   ]
  },
  {
   "cell_type": "markdown",
   "id": "d9648e3e-99e3-4a66-a939-6d67053f36f3",
   "metadata": {},
   "source": [
    "### Fault line model: train CV"
   ]
  },
  {
   "cell_type": "code",
   "execution_count": null,
   "id": "108f6dbc-6eae-449e-a04d-5edd49acd949",
   "metadata": {},
   "outputs": [],
   "source": [
    "df_train_N41 = pd.read_pickle(os.path.join(results_folder, \"train_res_N41_CV_10_folds_niklas.pkl\"))\n",
    "df_train_N41['mean average squared residual'] = df_train_N41['average squared residual'].apply(lambda x: np.mean(x))\n",
    "df_train_N41['median average squared residual'] = df_train_N41['average squared residual'].apply(lambda x: np.median(x))\n",
    "\n",
    "plt.figure(figsize=(13, 5))\n",
    "plt.subplot(121)\n",
    "plt.tricontourf(df_train_N41['lambda0'], df_train_N41['sigma0'], df_train_N41['mean average squared residual'], vmin=0.5, vmax=4, cmap='jet', levels=100)\n",
    "plt.title(\"mean average squared residual\")\n",
    "plt.colorbar()\n",
    "plt.subplot(122)\n",
    "plt.tricontourf(df_train_N41['lambda0'], df_train_N41['sigma0'], df_train_N41['median average squared residual'], vmin=0.5, vmax=4, cmap='jet', levels=100)\n",
    "plt.title(\"median average squared residual\")\n",
    "plt.colorbar()\n",
    "plt.savefig(\"./images/train_res_N41_CV\", bbox_inches='tight', dpi=200)"
   ]
  },
  {
   "cell_type": "code",
   "execution_count": null,
   "id": "ba3f33f7-3440-4cd1-bef4-0923b52efa57",
   "metadata": {},
   "outputs": [],
   "source": [
    "df_train_N41.iloc[df_train_N41['median average squared residual'].idxmin()]"
   ]
  },
  {
   "cell_type": "markdown",
   "id": "dc09dee7-fb58-46ed-a16f-89f7ada2e8ae",
   "metadata": {},
   "source": [
    "### Piecewise domains model: train CV"
   ]
  },
  {
   "cell_type": "code",
   "execution_count": null,
   "id": "52318ee3-c973-468d-b369-e7c59cba08b9",
   "metadata": {},
   "outputs": [],
   "source": [
    "df_train_domains = pd.read_pickle(os.path.join(results_folder, \"train_res_domains_CV_10_folds_niklas.pkl\"))\n",
    "df_train_domains['mean average squared residual'] = df_train_domains['average squared residual'].apply(lambda x: np.mean(x))\n",
    "df_train_domains['median average squared residual'] = df_train_domains['average squared residual'].apply(lambda x: np.median(x))\n",
    "\n",
    "plt.figure(figsize=(13, 5))\n",
    "plt.subplot(121)\n",
    "plt.tricontourf(df_train_domains['lambda0'], df_train_domains['sigma0'], df_train_domains['mean average squared residual'], vmin=0.5, vmax=50, cmap='jet', levels=100)\n",
    "plt.title(\"mean average squared residual\")\n",
    "plt.colorbar()\n",
    "plt.subplot(122)\n",
    "plt.tricontourf(df_train_domains['lambda0'], df_train_domains['sigma0'], df_train_domains['median average squared residual'], vmin=0.5, vmax=4, cmap='jet', levels=100)\n",
    "plt.title(\"median average squared residual\")\n",
    "plt.colorbar()\n",
    "plt.savefig(\"./images/train_res_domains_CV\", bbox_inches='tight', dpi=200)"
   ]
  },
  {
   "cell_type": "code",
   "execution_count": null,
   "id": "5434244a-6390-40c1-86fd-5d6fbfb4bbfa",
   "metadata": {},
   "outputs": [],
   "source": [
    "df_train_domains.iloc[df_train_domains['median average squared residual'].idxmin()]"
   ]
  },
  {
   "cell_type": "markdown",
   "id": "93094b67-9215-43ea-bcad-f7d96b622024",
   "metadata": {},
   "source": [
    "## Plot fold domains for different inits."
   ]
  },
  {
   "cell_type": "code",
   "execution_count": null,
   "id": "87349a2b-3f4e-4194-aea5-b756ea092649",
   "metadata": {},
   "outputs": [],
   "source": [
    "from volcapy.utils import kMeans_folds\n",
    "\n",
    "k = 10\n",
    "folds_inds = kMeans_folds(k, data_coords, init='random', n_init=1, random_state=140)\n",
    "\n",
    "# Plot bare folds domain.\n",
    "for i, fold in enumerate(folds_inds):\n",
    "    plt.scatter(data_coords[fold, 0], data_coords[fold, 1])\n",
    "plt.yticks([])\n",
    "plt.xticks([])\n",
    "plt.show()"
   ]
  },
  {
   "cell_type": "code",
   "execution_count": null,
   "id": "dfa3fea9-3c8b-4321-8165-d79a71667a36",
   "metadata": {},
   "outputs": [],
   "source": [
    "fold_inds_10_train = np.load(os.path.join(results_folder_new, \"folds_inds_10_train.pkl\"), allow_pickle=True)\n",
    "for i, fold in enumerate(folds_inds):\n",
    "    plt.scatter(data_coords[fold, 0], data_coords[fold, 1])\n",
    "plt.yticks([])\n",
    "plt.xticks([])\n",
    "plt.show()"
   ]
  },
  {
   "cell_type": "code",
   "execution_count": null,
   "id": "d3153064-720e-4ec4-be8b-639facbb154d",
   "metadata": {},
   "outputs": [],
   "source": [
    "df_train['mean average squared residual']"
   ]
  },
  {
   "cell_type": "markdown",
   "id": "9f9d3f75-f8f4-4e9e-9742-99aa43c0aa0c",
   "metadata": {},
   "source": [
    "## See if a given fold is more influential than others."
   ]
  },
  {
   "cell_type": "code",
   "execution_count": null,
   "id": "fa2007e1-aa24-47ad-b4d1-bdfaf3e58944",
   "metadata": {},
   "outputs": [],
   "source": [
    "k = 10\n",
    "df_fold_sensitivity = df_CV.loc[(df_CV['k'] == k) & (df_CV['model'] != 'constant (CV)')].drop('k_tilde', axis=1)\n",
    "# Add a column with fold labels.\n",
    "df_fold_sensitivity['fold labels'] = df_fold_sensitivity['k'].map(lambda x: list(range(1, k+1)))\n",
    "df_exploded = df_fold_sensitivity.explode(['residuals', 'fold labels'])\n",
    "df_exploded['mean squared residual'] = df_exploded['residuals'].map(lambda x: np.mean(x**2))\n",
    "df_exploded_1 = df_exploded.copy()\n",
    "g = sns.catplot(data=df_exploded, x=\"fold labels\", y=\"mean squared residual\", hue='model')\n",
    "for ax in g.fig.axes:\n",
    "    ax.set_yscale('log')\n",
    "    \n",
    "plt.savefig(\"./images/mse_fold_distr_k_{}\".format(k), bbox_inches='tight', dpi=200)"
   ]
  },
  {
   "cell_type": "code",
   "execution_count": null,
   "id": "c50e4c40-68ef-420b-9d86-13d6ad1a43ca",
   "metadata": {},
   "outputs": [],
   "source": [
    "k = 100\n",
    "df_fold_sensitivity = df_CV.loc[(df_CV['k'] == k) & (df_CV['model'] != 'constant (CV)')].drop('k_tilde', axis=1)\n",
    "# Add a column with fold labels.\n",
    "df_fold_sensitivity['fold labels'] = df_fold_sensitivity['k'].map(lambda x: list(range(1, k+1)))\n",
    "df_exploded = df_fold_sensitivity.explode(['residuals', 'fold labels'])\n",
    "df_exploded['mean squared residual'] = df_exploded['residuals'].map(lambda x: np.mean(x**2))\n",
    "df_exploded_2 = df_exploded.copy()\n",
    "g = sns.catplot(data=df_exploded, x=\"fold labels\", y=\"mean squared residual\", hue='model')\n",
    "for ax in g.fig.axes:\n",
    "    ax.set_yscale('log')\n",
    "plt.xticks([])\n",
    "plt.savefig(\"./images/mse_fold_distr_k_{}\".format(k), bbox_inches='tight', dpi=200)"
   ]
  },
  {
   "cell_type": "code",
   "execution_count": null,
   "id": "9aec4b7b-5fda-4f7c-b271-97277da665bd",
   "metadata": {},
   "outputs": [],
   "source": [
    "# Plot all on the same plot.\n",
    "df_exploded_1['k'] = 10\n",
    "df_exploded_2['k'] = 100\n",
    "df_exploded = pd.concat([df_exploded_1, df_exploded_2])\n",
    "g = sns.FacetGrid(df_exploded, col=\"k\", hue=\"model\", sharex=False,\n",
    "                 height=5)\n",
    "g.map_dataframe(sns.stripplot, x=\"fold labels\", y=\"mean squared residual\")\n",
    "def annotate(data, **kws):\n",
    "    n = len(data)\n",
    "    ax = plt.gca()\n",
    "    ax.set_yscale('log')\n",
    "g.map_dataframe(annotate)\n",
    "g.facet_axis(0, 1).set_xticks([])\n",
    "g.add_legend()\n",
    "plt.savefig(\"./images/mse_fold_distr_k_10_100\", bbox_inches='tight', dpi=200)"
   ]
  },
  {
   "cell_type": "markdown",
   "id": "fb96b73c-3768-4178-bf80-cdb6e92213ba",
   "metadata": {},
   "source": [
    "### Study residuals evolution as fold number grows. Compare MLE and CV."
   ]
  },
  {
   "cell_type": "code",
   "execution_count": null,
   "id": "b80a438d-01b1-41c4-a50a-fe975410a1c3",
   "metadata": {},
   "outputs": [],
   "source": [
    "%matplotlib inline\n",
    "\n",
    "# First unpack values in long format.\n",
    "tmp_models_list, tmp_k_list, tmp_res_mean_mse_list, tmp_res_median_mse_list = [], [], [], []\n",
    "for k in np.unique(df_CV['k']):\n",
    "    for model in ['constant', 'cylinder', 'fault line', 'piecewise domains', 'constant (CV)', 'cylinder (CV)', 'fault line (CV)', 'piecewise domains (CV)']:\n",
    "        residuals = df_CV.loc[(df_CV['model'] == model) & (df_CV['k'] == k)].residuals.item()\n",
    "        residuals_mean_mse = np.mean(np.array([np.mean(fold_residuals**2) for fold_residuals in residuals]))\n",
    "        residuals_median_mse = np.median(np.array([np.mean(fold_residuals**2) for fold_residuals in residuals]))\n",
    "        tmp_models_list.append(model)\n",
    "        tmp_k_list.append(k)\n",
    "        tmp_res_mean_mse_list.append(residuals_mean_mse)\n",
    "        tmp_res_median_mse_list.append(residuals_median_mse)\n",
    "\n",
    "df_res_evolution = pd.DataFrame({'model': tmp_models_list, 'k': tmp_k_list, 'residuals mean MSE': tmp_res_mean_mse_list, 'residuals median MSE': tmp_res_median_mse_list})\n",
    "\n",
    "sns.set(rc={'figure.figsize':(11.7,8.27)})\n",
    "sns.set_style(\"white\")\n",
    "\n",
    "# Plot MLE.\n",
    "sns.lineplot(\n",
    "    data=df_res_evolution[df_res_evolution['model'].isin(['constant', 'cylinder', 'fault line', 'piecewise domains'])],\n",
    "    x=\"k\", y=\"residuals mean MSE\", hue=\"model\", linestyle=(0, (1, 1)), marker='8', markersize=8, linewidth=3, alpha=0.7,\n",
    "    palette=[\"black\", \"dodgerblue\", \"darkkhaki\", \"red\"])\n",
    "\n",
    "# Plot CV.\n",
    "sns.lineplot(\n",
    "    data=df_res_evolution[df_res_evolution['model'].isin(['constant (CV)', 'cylinder (CV)', 'fault line (CV)', 'piecewise domains (CV)'])],\n",
    "    x=\"k\", y=\"residuals mean MSE\", hue=\"model\", linestyle='--', marker='.', markersize=12, linewidth=2, alpha=0.6,\n",
    "    palette=[\"black\", \"dodgerblue\", \"darkkhaki\", \"red\"])\n",
    "\n",
    "plt.yscale('log')\n",
    "plt.ylim([0.09, 150])\n",
    "plt.yticks([0.1, 0.5, 1, 10])\n",
    "plt.xlim([0, 60])\n",
    "plt.legend(['constant', 'cylinder', 'fault line', 'piecewise domains'])\n",
    "\n",
    "plt.savefig(\"./images/mean_mse_evolution_MLE_vs_CV\", bbox_inches='tight', dpi=200)"
   ]
  },
  {
   "cell_type": "code",
   "execution_count": null,
   "id": "ff207cf8-18e6-4fdc-9c62-7d480ae6e99e",
   "metadata": {},
   "outputs": [],
   "source": [
    "# Plot MLE.\n",
    "sns.lineplot(\n",
    "    data=df_res_evolution[df_res_evolution['model'].isin(['constant', 'cylinder', 'fault line', 'piecewise domains'])],\n",
    "    x=\"k\", y=\"residuals median MSE\", hue=\"model\", linestyle=(0, (1, 1)), marker='8', markersize=8, linewidth=3, alpha=0.7,\n",
    "    palette=[\"black\", \"dodgerblue\", \"darkkhaki\", \"red\"])\n",
    "\n",
    "# Plot CV.\n",
    "sns.lineplot(\n",
    "    data=df_res_evolution[df_res_evolution['model'].isin(['constant (CV)', 'cylinder (CV)', 'fault line (CV)', 'piecewise domains (CV)'])],\n",
    "    x=\"k\", y=\"residuals median MSE\", hue=\"model\", linestyle='--', marker='.', markersize=12, linewidth=2, alpha=0.6,\n",
    "    palette=[\"black\", \"dodgerblue\", \"darkkhaki\", \"red\"])\n",
    "\n",
    "plt.yscale('log')\n",
    "plt.ylim([0.09, 150])\n",
    "plt.yticks([0.1, 0.5, 1, 10])\n",
    "plt.xlim([0, 60])\n",
    "plt.legend(['constant', 'cylinder', 'fault line', 'piecewise domains'])\n",
    "\n",
    "plt.savefig(\"./images/median_mse_evolution_MLE_vs_CV\", bbox_inches='tight', dpi=200)"
   ]
  },
  {
   "cell_type": "code",
   "execution_count": null,
   "id": "38126b1a-052e-479d-a4c0-2cecbba58c46",
   "metadata": {},
   "outputs": [],
   "source": [
    "# Same as above, but use confidence intervals.\n",
    "\n",
    "# First unpack values in long format.\n",
    "tmp_models_list, tmp_k_list, tmp_res_mse_list, tmp_fold_nr_list, tmp_train_method_list = [], [], [], [], []\n",
    "for k in np.unique(df_CV['k']):\n",
    "    for model in ['constant', 'cylinder', 'fault line', 'piecewise domains']:\n",
    "        residuals = df_CV.loc[(df_CV['model'] == model) & (df_CV['k'] == k)].residuals.item()\n",
    "        for fold_nr in range(len(residuals)):\n",
    "            tmp_models_list.append(model)\n",
    "            tmp_k_list.append(k)\n",
    "            fold_residual_mse = np.mean(residuals[fold_nr]**2)\n",
    "            tmp_res_mse_list.append(fold_residual_mse)\n",
    "            tmp_fold_nr_list.append(fold_nr)\n",
    "            tmp_train_method_list.append('MLE')\n",
    "    for model in ['constant (CV)', 'cylinder (CV)', 'fault line (CV)', 'piecewise domains (CV)']:\n",
    "        residuals = df_CV.loc[(df_CV['model'] == model) & (df_CV['k'] == k)].residuals.item()\n",
    "        for fold_nr in range(len(residuals)):\n",
    "            tmp_models_list.append(model)\n",
    "            tmp_k_list.append(k)\n",
    "            fold_residual_mse = np.mean(residuals[fold_nr]**2)\n",
    "            tmp_res_mse_list.append(fold_residual_mse)\n",
    "            tmp_fold_nr_list.append(fold_nr)\n",
    "            tmp_train_method_list.append('CV')\n",
    "\n",
    "df_res_evolution_long = pd.DataFrame({'model': tmp_models_list, 'k': tmp_k_list, 'fold residual MSE': tmp_res_mse_list, 'fold nr': tmp_fold_nr_list,\n",
    "                                     'train method': tmp_train_method_list})\n",
    "\n",
    "sns.lineplot(\n",
    "    data=df_res_evolution_long[df_res_evolution_long['model'].isin(['constant (CV)', 'cylinder (CV)', 'fault line (CV)'])],\n",
    "    x=\"k\", y=\"fold residual MSE\", hue=\"model\", linestyle='--', marker='.', markersize=12, linewidth=2, alpha=0.6,\n",
    "    palette=[\"black\", \"dodgerblue\", \"red\"])\n",
    "\n",
    "# plt.yscale('log')\n",
    "plt.ylim([0.05, 1])\n",
    "plt.yticks([0.1, 0.5, 1, 10])\n",
    "plt.xlim([0, 60])\n",
    "plt.legend(['constant', 'cylinder', 'fault line'])"
   ]
  },
  {
   "cell_type": "markdown",
   "id": "a3b19129-969a-4387-9625-169a397d3636",
   "metadata": {},
   "source": [
    "### Study across folds variability."
   ]
  },
  {
   "cell_type": "code",
   "execution_count": null,
   "id": "6126462c-20c1-4a31-aec5-c58c23bb3079",
   "metadata": {},
   "outputs": [],
   "source": [
    "# Plot parameters\n",
    "sns.set()\n",
    "sns.set_style(\"white\")\n",
    "plt.rcParams[\"font.family\"] = \"arial\"\n",
    "plot_params = {\n",
    "        'font.size': 24, 'font.style': 'oblique',\n",
    "        'axes.labelsize': 'small',\n",
    "        'axes.titlesize':'small',\n",
    "        'legend.fontsize': 'small',\n",
    "        'xtick.labelsize': 'x-small',\n",
    "        'ytick.labelsize': 'x-small'\n",
    "        }\n",
    "plt.rcParams.update(plot_params)\n",
    "\n",
    "sns.boxplot(data=df_res_evolution_long.loc[(df_res_evolution_long['k'] == 10) & (df_res_evolution_long['train method'] == 'MLE')],\n",
    "            x=\"model\", y=\"fold residual MSE\", hue=\"model\", dodge=False, orient='v')\n",
    "# plt.yscale('log')\n",
    "plt.ylim([0, 10])\n",
    "plt.legend([])\n",
    "plt.savefig(\"./images/boxplot_residual_MSE_k_10_MLE\", bbox_inches='tight', dpi=200)"
   ]
  },
  {
   "cell_type": "code",
   "execution_count": null,
   "id": "4aaf401a-be9c-4c9a-a551-2c18714fb8e5",
   "metadata": {},
   "outputs": [],
   "source": [
    "sns.boxplot(data=df_res_evolution_long.loc[(df_res_evolution_long['k'] == 10) & (df_res_evolution_long['train method'] == 'CV')],\n",
    "            x=\"model\", y=\"fold residual MSE\", hue=\"model\", dodge=False, orient='v')\n",
    "# plt.yscale('log')\n",
    "plt.legend([], [], frameon=False)\n",
    "plt.ylim([0, 10])\n",
    "plt.savefig(\"./images/boxplot_residual_MSE_k_10_CV\", bbox_inches='tight', dpi=200)"
   ]
  },
  {
   "cell_type": "code",
   "execution_count": null,
   "id": "abb91e36-314f-4bb4-ac73-e7407228000d",
   "metadata": {},
   "outputs": [],
   "source": [
    "sns.boxplot(data=df_res_evolution_long.loc[(df_res_evolution_long['k'] == 50) & (df_res_evolution_long['train method'] == 'MLE')],\n",
    "            x=\"model\", y=\"fold residual MSE\", hue=\"model\", dodge=False, orient='v')\n",
    "# plt.yscale('log')\n",
    "plt.ylim([0, 10])\n",
    "plt.legend([])\n",
    "plt.savefig(\"./images/boxplot_residual_MSE_k_40_CV\", bbox_inches='tight', dpi=200)"
   ]
  }
 ],
 "metadata": {
  "kernelspec": {
   "display_name": "volcano",
   "language": "python",
   "name": "volcano"
  },
  "language_info": {
   "codemirror_mode": {
    "name": "ipython",
    "version": 3
   },
   "file_extension": ".py",
   "mimetype": "text/x-python",
   "name": "python",
   "nbconvert_exporter": "python",
   "pygments_lexer": "ipython3",
   "version": "3.8.11"
  }
 },
 "nbformat": 4,
 "nbformat_minor": 5
}
