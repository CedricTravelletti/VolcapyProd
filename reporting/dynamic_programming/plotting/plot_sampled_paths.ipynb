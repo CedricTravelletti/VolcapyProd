{
 "cells": [
  {
   "cell_type": "markdown",
   "id": "c39573d8-2873-428f-bf59-ef34b212dcbc",
   "metadata": {},
   "source": [
    "# Plot paths samples by different path sampling mechanisms.\n",
    "\n",
    "The goal of this notebook is to study the shaphes of the designs samples by the different strategies."
   ]
  },
  {
   "cell_type": "code",
   "execution_count": null,
   "id": "fcd8c0ca-9f9b-4a30-be47-f14dfda2a6ff",
   "metadata": {},
   "outputs": [],
   "source": [
    "%load_ext autoreload\n",
    "%autoreload 2\n",
    "\n",
    "import os\n",
    "import numpy as np\n",
    "import networkx as nx\n",
    "import matplotlib.pyplot as plt\n",
    "\n",
    "\n",
    "# Load Niklas data.\n",
    "data_folder = \"/home/cedric/PHD/Dev/VolcapySIAM/data/InversionDatas/stromboli_173018/\"\n",
    "\n",
    "data_coords = np.load(os.path.join(data_folder,\"niklas_data_coords_corrected_final.npy\"))\n",
    "data_coords_inds_insurf = np.load(os.path.join(data_folder,\"niklas_data_inds_insurf.npy\"))[1:] # Remove base station.\n",
    "surface_data_coords = np.load(os.path.join(data_folder,\"surface_data_coords.npy\"))\n",
    "\n",
    "# Get the nodes coordinates. Remember the nodes store their corresponding data\n",
    "# index in the 'ind' attribute.\n",
    "xyz = surface_data_coords\n",
    "mean = np.mean(xyz, axis=0)\n",
    "std = np.std(xyz, axis=0)\n",
    "xyz_norm = (xyz - mean) / std\n",
    "\n",
    "# Scale the z coordinate.\n",
    "xyz_norm[:, 2] = 0.5 * xyz_norm[:, 2]\n",
    "\n",
    "from volcapy.graph.loading import load_Stromboli_graphs\n",
    "graph_trails_insurf, graph_surface, accessibility_graph = load_Stromboli_graphs(data_folder)"
   ]
  },
  {
   "cell_type": "code",
   "execution_count": null,
   "id": "9896c1a6-2fbc-4b64-907b-63ebc74c1209",
   "metadata": {},
   "outputs": [],
   "source": [
    "from volcapy.set_sampling import uniform_bernoulli_sample, uniform_size_uniform_sample\n",
    "from volcapy.graph.cost_functions import symmetric_walking_cost_fn_edge\n",
    "\n",
    "# Compute weights once and for all.\n",
    "from volcapy.path_planning import weight_graph_with_cost\n",
    "accessibility_graph = weight_graph_with_cost(accessibility_graph, symmetric_walking_cost_fn_edge)\n",
    "\n",
    "base_node = list(graph_trails_insurf.nodes)[0]\n",
    "n_starting_designs = 3"
   ]
  },
  {
   "cell_type": "code",
   "execution_count": null,
   "id": "45580075-5897-47f4-89bf-e481f7c944ac",
   "metadata": {},
   "outputs": [],
   "source": [
    "%matplotlib inline\n",
    "base_designs = uniform_size_uniform_sample(\n",
    "    list(accessibility_graph.nodes), size=n_starting_designs,\n",
    "    min_size=2, max_size=2, fixed_node=base_node)\n",
    "\n",
    "# Get the shortest triangle connecting the points.\n",
    "from volcapy.path_planning import solve_TSP\n",
    "base_triangle_nodes = [solve_TSP(accessibility_graph, design_nodes, 'weight')[0] for design_nodes in base_designs]\n",
    "base_triangle_paths = [\n",
    "    [nx.shortest_path(accessibility_graph, base_triangle[i], base_triangle[i+1], 'weight') for i in range(len(base_triangle) - 1)]\n",
    "    for base_triangle in base_triangle_nodes]\n",
    "\n",
    "# Compute the costs.\n",
    "base_triangle_costs = [\n",
    "    (1 / 60**2) * np.sum([nx.shortest_path_length(accessibility_graph, base_triangle[i], base_triangle[i+1], 'weight') for i in range(len(base_triangle) - 1)])\n",
    "    for base_triangle in base_triangle_nodes]\n",
    "\n",
    "fig = plt.figure(figsize=(30, 10))\n",
    "\n",
    "sizes = [300, 150, 70]\n",
    "alphas = [1, 0.8, 0.5]\n",
    "colors = ['blue', 'red', 'green']\n",
    "plt.subplot(131)\n",
    "# Plot the island.\n",
    "plt.scatter(surface_data_coords[:, 0], surface_data_coords[:, 1], alpha=0.05)\n",
    "for i, inds in enumerate(base_triangle_paths[0]):\n",
    "    plt.scatter(surface_data_coords[inds, 0], surface_data_coords[inds, 1], s=sizes[i], alpha=alphas[1], color=colors[i])\n",
    "plt.scatter(surface_data_coords[base_designs[0], 0], surface_data_coords[base_designs[0], 1], s=500, color='gold', marker='H')\n",
    "plt.title(\"Cost: {:.1f} hrs\".format(base_triangle_costs[0]))\n",
    "\n",
    "plt.subplot(132)\n",
    "# Plot the island.\n",
    "plt.scatter(surface_data_coords[:, 0], surface_data_coords[:, 1], alpha=0.05)\n",
    "for i, inds in enumerate(base_triangle_paths[1]):\n",
    "    plt.scatter(surface_data_coords[inds, 0], surface_data_coords[inds, 1], s=sizes[i], alpha=alphas[1], color=colors[i])\n",
    "plt.scatter(surface_data_coords[base_designs[1], 0], surface_data_coords[base_designs[1], 1], s=500, color='gold', marker='H')\n",
    "plt.title(\"Cost: {:.1f} hrs\".format(base_triangle_costs[1]))\n",
    "\n",
    "plt.subplot(133)\n",
    "# Plot the island.\n",
    "plt.scatter(surface_data_coords[:, 0], surface_data_coords[:, 1], alpha=0.05)\n",
    "for i, inds in enumerate(base_triangle_paths[2]):\n",
    "    plt.scatter(surface_data_coords[inds, 0], surface_data_coords[inds, 1], s=sizes[i], alpha=alphas[1], color=colors[i])\n",
    "plt.scatter(surface_data_coords[base_designs[2], 0], surface_data_coords[base_designs[2], 1], s=500, color='gold', marker='H')\n",
    "plt.title(\"Cost: {:.1f} hrs\".format(base_triangle_costs[2]))\n",
    "\n",
    "\n",
    "plt.savefig(\"sampled_base_triangles.pdf\")\n",
    "plt.show()"
   ]
  },
  {
   "cell_type": "code",
   "execution_count": null,
   "id": "d3db5624-a955-4db8-a2a8-b717a9143b97",
   "metadata": {},
   "outputs": [],
   "source": [
    "# Compute the costs.\n",
    "base_triangle_costs = [\n",
    "    (1 / 60**2) * np.sum([nx.shortest_path_length(accessibility_graph, base_triangle[i], base_triangle[i+1], 'weight') for i in range(len(base_triangle) - 1)])\n",
    "    for base_triangle in base_triangle_nodes]"
   ]
  },
  {
   "cell_type": "code",
   "execution_count": null,
   "id": "8105be51-fd23-4e5a-a12f-08d11fe5bf74",
   "metadata": {},
   "outputs": [],
   "source": [
    "base_triangle_costs"
   ]
  }
 ],
 "metadata": {
  "kernelspec": {
   "display_name": "volcano",
   "language": "python",
   "name": "volcano"
  },
  "language_info": {
   "codemirror_mode": {
    "name": "ipython",
    "version": 3
   },
   "file_extension": ".py",
   "mimetype": "text/x-python",
   "name": "python",
   "nbconvert_exporter": "python",
   "pygments_lexer": "ipython3",
   "version": "3.8.11"
  }
 },
 "nbformat": 4,
 "nbformat_minor": 5
}
