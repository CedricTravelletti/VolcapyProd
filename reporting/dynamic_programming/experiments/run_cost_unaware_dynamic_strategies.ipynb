{
 "cells": [
  {
   "cell_type": "code",
   "execution_count": null,
   "id": "9b5cb144-a3bc-45a2-b544-fd33c6785d25",
   "metadata": {},
   "outputs": [],
   "source": [
    "import os\n",
    "import numpy as np\n",
    "import pandas as pd\n",
    "import torch\n",
    "import networkx as nx\n",
    "from volcapy.grid.grid_from_dsm import Grid\n",
    "from volcapy.uq.set_estimation import vorobev_expectation_inds\n",
    "\n",
    "\n",
    "# Load Niklas data.\n",
    "#data_folder = \"/home/cedric/PHD/Dev/VolcapySIAM/data/InversionDatas/stromboli_173018/\"\n",
    "data_folder = \"/storage/homefs/ct19x463/Data/InversionDatas/stromboli_173018/\"\n",
    "output_folder = \"/storage/homefs/ct19x463/Volcano_DP_results/experiments/cost_unaware_dynamic_strategy/\"\n",
    "\n",
    "data_coords = np.load(os.path.join(data_folder,\"niklas_data_coords_corrected_final.npy\"))\n",
    "data_coords_inds_insurf = np.load(os.path.join(data_folder,\"niklas_data_inds_insurf.npy\"))[1:] # Remove base station.\n",
    "surface_data_coords = np.load(os.path.join(data_folder,\"surface_data_coords.npy\"))\n",
    "G_full_surface = torch.from_numpy(np.load(os.path.join(data_folder,\"F_full_surface.npy\")))\n",
    "\n",
    "grid = Grid.load(os.path.join(data_folder, \"grid.pickle\"))                                             \n",
    "volcano_coords = torch.from_numpy(grid.cells).float().detach() \n",
    "\n",
    "from volcapy.graph.loading import load_Stromboli_graphs\n",
    "graph_trails_insurf, graph_surface, graph_merged = load_Stromboli_graphs(data_folder) \n",
    "\n",
    "# Prepare experiment.\n",
    "from volcapy.prepare_DP_experiments import prepare_experiment_data\n",
    "sample_nr = 1\n",
    "(trained_gp_model, ground_truth, volcano_grid,\n",
    "     data_coords, G, data_feed,\n",
    "     accessibility_graph, base_station_node,\n",
    "     THRESHOLD_small, THRESHOLD_big, _) = prepare_experiment_data(sample_nr)"
   ]
  },
  {
   "cell_type": "code",
   "execution_count": null,
   "id": "5bcf8d0a-fdf8-4070-818e-508bc97a4e3e",
   "metadata": {},
   "outputs": [],
   "source": [
    "# Define the (blind) critetion to optimize.\n",
    "lower_thresold = torch.Tensor([2600.0]).to('cuda')\n",
    "data_std = 0.1 \n",
    "\n",
    "G_full_surface = torch.from_numpy(G)\n",
    "\n",
    "def compute_blind_wIVR(design, belief):                                                                                                                                                                            \n",
    "    # Get the observation operator corresponding to the design.                     \n",
    "    G = G_full_surface[np.array(design), :]                                                                                                                \n",
    "    current_coverage = belief.coverage(lower_thresold, None)                        \n",
    "    variance_reduction, _ = belief.covariance.compute_VR(G, data_std)                                             \n",
    "    wIVR = torch.sum(variance_reduction * current_coverage)\n",
    "    IVR = torch.sum(variance_reduction)\n",
    "\n",
    "    return {'reward': wIVR.item(), 'reward_metadata': {'IVR': IVR.item()}}\n",
    "                                                                                  \n",
    "def compute_mismatch(ground_truth, estimated_excursion_inds):  \n",
    "          true_excursion_inds = (ground_truth >= lower_thresold.cpu()).nonzero()[:, 0]       \n",
    "                                                                                  \n",
    "          # Compute mismatch.                                                     \n",
    "          mismatch = np.zeros(ground_truth.shape[0])                            \n",
    "          mismatch[estimated_excursion_inds] = 1                                        \n",
    "          tmp = np.zeros(ground_truth.shape[0])                                 \n",
    "          tmp[true_excursion_inds] = 2                                            \n",
    "          mismatch = mismatch + tmp                                               \n",
    "                                                                                  \n",
    "          excu_size = true_excursion_inds.shape[0] + 1                            \n",
    "          p_false_pos = 100 * np.sum(mismatch == 1) / excu_size                   \n",
    "          p_false_neg = 100 * np.sum(mismatch == 2) / excu_size                   \n",
    "          p_correct = 100 * np.sum(mismatch == 3) / excu_size                     \n",
    "                                                                                  \n",
    "          return (p_false_pos, p_false_neg, p_correct)          \n",
    "\n",
    "def compute_accuracy_metrics(ground_truth, design, belief, already_updated=False):\n",
    "    if not torch.is_tensor(ground_truth): ground_truth = torch.from_numpy(ground_truth)\n",
    "    if already_updated is False:\n",
    "        # Get the data.\n",
    "        # Get the observation operator corresponding to the design.                     \n",
    "        G = G_full_surface[np.array(design), :]\n",
    "        y = data_feed(np.array(design))\n",
    "    \n",
    "        # Add the data.\n",
    "        belief.update(G, y, data_std)\n",
    "    \n",
    "    # Compute the new variance and coverage.\n",
    "    variance_new = belief.covariance.extract_variance().cpu()\n",
    "    coverage_new = belief.coverage(lower_thresold, None).cpu()\n",
    "    \n",
    "    # Residual weighted integrated variance.\n",
    "    wIV_new = torch.sum(variance_new * coverage_new)\n",
    "    IBV_final = torch.sum(coverage_new * (1 - coverage_new))\n",
    "    \n",
    "    # Error with plug-in estimate.\n",
    "    post_mean = belief.mean_vec.cpu()\n",
    "    vorobev_excursion_inds = vorobev_expectation_inds(coverage_new)\n",
    "    p_false_pos, p_false_neg, p_correct = compute_mismatch(ground_truth, vorobev_excursion_inds)\n",
    "\n",
    "    if already_updated is False:\n",
    "        # Return GP to original state.\n",
    "        belief.rewind(0)\n",
    "    return {'wIV_final': wIV_new.item(),\n",
    "            'IBV_final': IBV_final.item(), 'p_false_pos_final': p_false_pos, 'p_false_neg_final': p_false_neg, 'p_correct_final': p_correct}"
   ]
  },
  {
   "cell_type": "code",
   "execution_count": null,
   "id": "f2e8f6ba-d20b-437e-a3f8-df0ed8ee6999",
   "metadata": {},
   "outputs": [],
   "source": [
    "belief = trained_gp_model"
   ]
  },
  {
   "cell_type": "code",
   "execution_count": null,
   "id": "0f35e04a-7c01-4fec-807b-5fd5a856d80f",
   "metadata": {
    "tags": []
   },
   "outputs": [],
   "source": [
    "from volcapy.strategy.cost_unaware_dynamic_strategies import cost_unaware_wIVR\n",
    "\n",
    "budget = 60 * 60 * 3 # 3 hours.  \n",
    "\n",
    "\n",
    "evaluated_designs, rewards, rewards_metadata, costs, paths, accuracy_metrics = [], [], [], [], [], []\n",
    "\n",
    "# Sample a starting node at random.\n",
    "from volcapy.set_sampling import uniform_size_uniform_sample\n",
    "starting_node= uniform_size_uniform_sample(\n",
    "            list(accessibility_graph.nodes), sample_size=1,\n",
    "            min_size=1, max_size=1)\n",
    "\n",
    "best_path, observed_data, best_design = cost_unaware_wIVR(\n",
    "    belief, budget, accessibility_graph, base_station_node, starting_node[0],\n",
    "    G, data_feed,\n",
    "    THRESHOLD_small)\n",
    "\n",
    "# Arrange results to be saved.\n",
    "evaluated_designs.append(best_design)\n",
    "paths.append(best_path)\n",
    "costs.append(nx.path_weight(accessibility_graph, best_path, weight='weight'))"
   ]
  },
  {
   "cell_type": "code",
   "execution_count": null,
   "id": "acb59cfa-cd0c-4951-ad4d-daaaa4a3e550",
   "metadata": {
    "tags": []
   },
   "outputs": [],
   "source": [
    "# Compute different metrics for comparison.\n",
    "accuracy_metric = compute_accuracy_metrics(ground_truth, design=best_design, belief=belief, already_updated=True)\n",
    "accuracy_metrics.append(accuracy_metric)\n",
    "\n",
    "# Have to reset belief to compute blind reward.\n",
    "belief.rewind(0)\n",
    "blind_reward = compute_blind_wIVR(best_design, belief)\n",
    "\n",
    "rewards.append(blind_reward['reward'])                      \n",
    "rewards_metadata.append(blind_reward['reward_metadata'])\n",
    "\n",
    "df = pd.DataFrame.from_dict(\n",
    "    {'design': evaluated_designs, 'reward': rewards, 'reward_metadata': rewards_metadata,\n",
    "     'cost': costs, 'path': paths})                                                         \n",
    "df_accuracy_metric = pd.DataFrame(accuracy_metrics)                                                                           \n",
    "df = pd.concat([df, df_accuracy_metric], axis=1)\n",
    "\n",
    "df.to_pickle(\"results_cost_unaware_wIVR.pkl\")"
   ]
  },
  {
   "cell_type": "code",
   "execution_count": null,
   "id": "87326fab-b482-4219-a7c7-a912a16a5a3d",
   "metadata": {},
   "outputs": [],
   "source": [
    "df"
   ]
  },
  {
   "cell_type": "code",
   "execution_count": null,
   "id": "3ae577ed-51c1-47f9-910d-3169fe496e33",
   "metadata": {},
   "outputs": [],
   "source": [
    "best_design"
   ]
  },
  {
   "cell_type": "code",
   "execution_count": null,
   "id": "bc594277-8189-4eff-b744-6670f4b1a72a",
   "metadata": {},
   "outputs": [],
   "source": [
    "%matplotlib inline\n",
    "import matplotlib.pyplot as plt\n",
    "\n",
    "fig = plt.figure(figsize=(15, 15))\n",
    "plt.scatter(data_coords[:, 0], data_coords[:, 1])\n",
    "plt.scatter(data_coords[best_path, 0], data_coords[best_path, 1], color='yellow')\n",
    "plt.scatter(data_coords[base_station_node, 0], data_coords[base_station_node, 1], color='red', s=300)\n",
    "plt.scatter(data_coords[starting_node, 0], data_coords[starting_node, 1], color='green', s=300)\n",
    "end_node = best_design[-1]\n",
    "plt.scatter(data_coords[end_node, 0], data_coords[end_node, 1], color='blue', s=300)\n",
    "plt.savefig(\"cost_unaware_wIVR_plan.pdf\")"
   ]
  },
  {
   "cell_type": "code",
   "execution_count": null,
   "id": "2836218b-b629-4c2f-bd86-137d53dd1cca",
   "metadata": {},
   "outputs": [],
   "source": [
    "\n"
   ]
  },
  {
   "cell_type": "code",
   "execution_count": null,
   "id": "2c38c73c-253f-4cbe-aaf8-12ef64d89b14",
   "metadata": {},
   "outputs": [],
   "source": [
    "print(accuracy_metrics)"
   ]
  },
  {
   "cell_type": "code",
   "execution_count": null,
   "id": "e1ad20f4-8c89-4c46-9189-0ccd06d2b0ee",
   "metadata": {
    "tags": []
   },
   "outputs": [],
   "source": [
    "from volcapy.strategy.static_strategies import static_blind_path_selection\n",
    "from volcapy.graph.cost_functions import symmetric_walking_cost_fn_edge\n",
    "\n",
    "from volcapy.set_sampling import uniform_size_uniform_sample\n",
    "\n",
    "budget = 60 * 60 * 14 # 14 hours.  \n",
    "n_starting_designs = 2000\n",
    "N_refine = n_starting_designs # Return all evaluated designs.\n",
    "\n",
    "# Only sample sets that contain the base node.\n",
    "base_node = list(graph_trails_insurf.nodes)[0]\n",
    "sampler = lambda x, y: uniform_size_uniform_sample(x, y, min_size=2, max_size=30, fixed_node=base_node)\n",
    "\n",
    "output_file = os.path.join(output_folder, \"results_sample_{}.pkl\".format(sample_nr))\n",
    "results_df = static_blind_path_selection(\n",
    "    compute_blind_wIVR, compute_accuracy_metrics,\n",
    "    belief, budget, N_refine, graph_merged, symmetric_walking_cost_fn_edge, design_sampler=sampler,\n",
    "    n_starting_designs=n_starting_designs,\n",
    "    output_path=output_file)"
   ]
  },
  {
   "cell_type": "code",
   "execution_count": null,
   "id": "05ee629f-b4ef-4d46-b2f6-8440e4e88bb3",
   "metadata": {},
   "outputs": [],
   "source": [
    "%matplotlib inline\n",
    "import matplotlib.pyplot as plt\n",
    "plt.hist(results_df['cost'] / 60**2)"
   ]
  },
  {
   "cell_type": "code",
   "execution_count": null,
   "id": "a0eec32e-cadf-442e-96aa-9e7d4a40834b",
   "metadata": {},
   "outputs": [],
   "source": [
    "filtered_results = results_df[results_df['reward'] > -np.inf]"
   ]
  },
  {
   "cell_type": "code",
   "execution_count": null,
   "id": "9be72d01-c4d1-439a-9486-82d75a022b95",
   "metadata": {},
   "outputs": [],
   "source": [
    "wIV_finals = [x[0].item() for x in filtered_results['accuracy_metrics']]\n",
    "p_correct_finals = [x[-1] for x in filtered_results['accuracy_metrics']]\n",
    "p_false_pos_finals = [x[1] for x in filtered_results['accuracy_metrics']]\n",
    "p_false_neg_finals = [x[2] for x in filtered_results['accuracy_metrics']]"
   ]
  },
  {
   "cell_type": "code",
   "execution_count": null,
   "id": "e1eb70c5-9729-4648-8735-4b9d9a06b2e4",
   "metadata": {},
   "outputs": [],
   "source": [
    "plt.subplot(131)\n",
    "plt.scatter(list(filtered_results['reward']), p_correct_finals)\n",
    "plt.subplot(132)\n",
    "plt.scatter(list(filtered_results['reward']), p_false_pos_finals)\n",
    "plt.subplot(133)\n",
    "plt.scatter(list(filtered_results['reward']), p_false_neg_finals)"
   ]
  },
  {
   "cell_type": "code",
   "execution_count": null,
   "id": "1ee86dab-9fcf-4a32-8025-d2789ec4e04c",
   "metadata": {},
   "outputs": [],
   "source": [
    "G_tmp = G_full_surface[np.array(best_designs[1]), :]\n",
    "current_coverage = belief.coverage(lower_thresold, None)    \n",
    "wIVR = belief.IVR(G_tmp, data_std,                                                  \n",
    "            weights=current_coverage)"
   ]
  },
  {
   "cell_type": "code",
   "execution_count": null,
   "id": "63f2f8a9-449d-4cc2-af23-c0538efec884",
   "metadata": {},
   "outputs": [],
   "source": [
    "base_node = list(graph_trails_insurf.nodes)[0]\n",
    "graph_merged.edges(base_node, data=True)"
   ]
  }
 ],
 "metadata": {
  "kernelspec": {
   "display_name": "Python 3",
   "language": "python",
   "name": "python3"
  },
  "language_info": {
   "codemirror_mode": {
    "name": "ipython",
    "version": 3
   },
   "file_extension": ".py",
   "mimetype": "text/x-python",
   "name": "python",
   "nbconvert_exporter": "python",
   "pygments_lexer": "ipython3",
   "version": "3.8.1"
  }
 },
 "nbformat": 4,
 "nbformat_minor": 5
}
