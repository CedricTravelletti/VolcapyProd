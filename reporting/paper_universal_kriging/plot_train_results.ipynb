{
 "cells": [
  {
   "cell_type": "markdown",
   "id": "abbc4d38-7b96-4418-9e27-f505a60d507b",
   "metadata": {},
   "source": [
    "# Plot trainig results (fault line model on Niklas data)."
   ]
  },
  {
   "cell_type": "code",
   "execution_count": null,
   "id": "3b66ee96-6cf9-4b3b-a996-f1de4015099b",
   "metadata": {},
   "outputs": [],
   "source": [
    "%pip install pandas==1.4.1"
   ]
  },
  {
   "cell_type": "code",
   "execution_count": null,
   "id": "0108f977-f65b-4f16-b5e6-d28d27ec5694",
   "metadata": {},
   "outputs": [],
   "source": [
    "import os\n",
    "import pandas\n",
    "\n",
    "base_folder = \"/storage/homefs/ct19x463/Data/\"\n",
    "df = pandas.read_pickle(os.path.join(base_folder, \"paper_universal/train_ground_truth.pkl\"))"
   ]
  },
  {
   "cell_type": "code",
   "execution_count": null,
   "id": "03b930d8-0fb4-4f17-9434-9c6192867668",
   "metadata": {},
   "outputs": [],
   "source": [
    "df"
   ]
  },
  {
   "cell_type": "code",
   "execution_count": null,
   "id": "c751deb9-97af-49da-94e9-403082b755ab",
   "metadata": {},
   "outputs": [],
   "source": [
    "import matplotlib.pyplot as plt\n",
    "\n",
    "# Create a scatter plot\n",
    "plt.scatter(df['lambda0'], df['sigma0'], c=df['nll'], cmap='viridis', vmin=-900, vmax=2000)\n",
    "plt.colorbar()"
   ]
  },
  {
   "cell_type": "markdown",
   "id": "c6370225-2428-4f66-b7ba-4489840c1708",
   "metadata": {},
   "source": [
    "### Find mimimum (filtered on stability conditions."
   ]
  },
  {
   "cell_type": "code",
   "execution_count": null,
   "id": "6a6896cf-d529-4f18-8381-81ae5372e7e0",
   "metadata": {},
   "outputs": [],
   "source": [
    "df.iloc[df['nll'].idxmin()]"
   ]
  },
  {
   "cell_type": "code",
   "execution_count": null,
   "id": "f78ce2eb-088d-42a7-b412-8228889546bf",
   "metadata": {},
   "outputs": [],
   "source": [
    "filtered_df = df[(df['sigma0'] < 1000) & (df['lambda0'] < 1100)]\n",
    "\n",
    "# Find the index of the minimum in column 'C'\n",
    "if not filtered_df.empty:\n",
    "    min_index = filtered_df['nll'].idxmin()\n",
    "    print(df.iloc[min_index])"
   ]
  },
  {
   "cell_type": "code",
   "execution_count": null,
   "id": "3cae3d83-a61e-4d5b-9f31-99f4ebe8febc",
   "metadata": {},
   "outputs": [],
   "source": [
    "# Create a scatter plot\n",
    "plt.scatter(df['lambda0'], df['sigma0'], c=df['nll'], cmap='viridis', vmin=-900, vmax=2000)\n",
    "plt.scatter(df.iloc[min_index]['lambda0'], df.iloc[min_index]['sigma0'], color='red', marker='x', s=100)"
   ]
  }
 ],
 "metadata": {
  "kernelspec": {
   "display_name": "Python 3 (ipykernel)",
   "language": "python",
   "name": "python3"
  },
  "language_info": {
   "codemirror_mode": {
    "name": "ipython",
    "version": 3
   },
   "file_extension": ".py",
   "mimetype": "text/x-python",
   "name": "python",
   "nbconvert_exporter": "python",
   "pygments_lexer": "ipython3",
   "version": "3.9.7"
  }
 },
 "nbformat": 4,
 "nbformat_minor": 5
}
